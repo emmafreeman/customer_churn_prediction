{
 "cells": [
  {
   "cell_type": "markdown",
   "metadata": {},
   "source": [
    "Load packages/libraries"
   ]
  },
  {
   "cell_type": "code",
   "execution_count": 2,
   "metadata": {
    "collapsed": false
   },
   "outputs": [],
   "source": [
    "import pandas as pd\n",
    "import numpy as np\n",
    "import matplotlib.pyplot as plt\n",
    "%matplotlib inline\n",
    "\n",
    "from sklearn.utils import resample\n",
    "\n",
    "from sklearn.preprocessing import StandardScaler, MinMaxScaler\n",
    "\n",
    "from scipy.stats import boxcox\n",
    "\n",
    "from sklearn.model_selection import train_test_split, GridSearchCV\n",
    "\n",
    "from sklearn.metrics import classification_report, confusion_matrix, auc, roc_curve\n",
    "\n",
    "from sklearn.pipeline import Pipeline\n",
    "\n",
    "from sklearn.decomposition import PCA\n",
    "\n",
    "from sklearn.feature_selection import f_classif, SelectKBest, SelectFromModel\n",
    "\n",
    "from sklearn.linear_model import LogisticRegression\n",
    "\n",
    "from sklearn.neighbors import KNeighborsClassifier\n",
    "\n",
    "from sklearn.ensemble import RandomForestClassifier, AdaBoostClassifier\n",
    "\n",
    "from sklearn.svm import SVC"
   ]
  },
  {
   "cell_type": "code",
   "execution_count": 3,
   "metadata": {
    "collapsed": false
   },
   "outputs": [],
   "source": [
    "# load the pickled dataframe\n",
    "cust_df = pd.read_pickle('dummies_no_out')"
   ]
  },
  {
   "cell_type": "code",
   "execution_count": 4,
   "metadata": {
    "collapsed": false
   },
   "outputs": [
    {
     "data": {
      "text/html": [
       "<div>\n",
       "<table border=\"1\" class=\"dataframe\">\n",
       "  <thead>\n",
       "    <tr style=\"text-align: right;\">\n",
       "      <th></th>\n",
       "      <th>sessions</th>\n",
       "      <th>duration</th>\n",
       "      <th>mega_bytes</th>\n",
       "      <th>case_count</th>\n",
       "      <th>comp_flag</th>\n",
       "      <th>train_flag</th>\n",
       "      <th>pcs_flag</th>\n",
       "      <th>holiday_flag</th>\n",
       "      <th>churn</th>\n",
       "      <th>base_AFACDY</th>\n",
       "      <th>...</th>\n",
       "      <th>base_MCCMUJ</th>\n",
       "      <th>base_MCCPEN</th>\n",
       "      <th>base_MCHAWI</th>\n",
       "      <th>base_MCMIRA</th>\n",
       "      <th>base_MCPRSI</th>\n",
       "      <th>base_MCQTCO</th>\n",
       "      <th>base_MCSDRC</th>\n",
       "      <th>base_MCSMTH</th>\n",
       "      <th>base_MCYUMA</th>\n",
       "      <th>base_TOKYO</th>\n",
       "    </tr>\n",
       "    <tr>\n",
       "      <th>account_num</th>\n",
       "      <th></th>\n",
       "      <th></th>\n",
       "      <th></th>\n",
       "      <th></th>\n",
       "      <th></th>\n",
       "      <th></th>\n",
       "      <th></th>\n",
       "      <th></th>\n",
       "      <th></th>\n",
       "      <th></th>\n",
       "      <th></th>\n",
       "      <th></th>\n",
       "      <th></th>\n",
       "      <th></th>\n",
       "      <th></th>\n",
       "      <th></th>\n",
       "      <th></th>\n",
       "      <th></th>\n",
       "      <th></th>\n",
       "      <th></th>\n",
       "      <th></th>\n",
       "    </tr>\n",
       "  </thead>\n",
       "  <tbody>\n",
       "    <tr>\n",
       "      <th>2181914.0</th>\n",
       "      <td>878</td>\n",
       "      <td>1.005832e+06</td>\n",
       "      <td>4894219.706</td>\n",
       "      <td>0.0</td>\n",
       "      <td>0.0</td>\n",
       "      <td>0.0</td>\n",
       "      <td>1.0</td>\n",
       "      <td>0.0</td>\n",
       "      <td>1.0</td>\n",
       "      <td>0</td>\n",
       "      <td>...</td>\n",
       "      <td>0</td>\n",
       "      <td>0</td>\n",
       "      <td>0</td>\n",
       "      <td>0</td>\n",
       "      <td>0</td>\n",
       "      <td>0</td>\n",
       "      <td>0</td>\n",
       "      <td>0</td>\n",
       "      <td>0</td>\n",
       "      <td>0</td>\n",
       "    </tr>\n",
       "    <tr>\n",
       "      <th>9858995.0</th>\n",
       "      <td>240</td>\n",
       "      <td>2.289019e+05</td>\n",
       "      <td>4664070.710</td>\n",
       "      <td>0.0</td>\n",
       "      <td>0.0</td>\n",
       "      <td>1.0</td>\n",
       "      <td>0.0</td>\n",
       "      <td>0.0</td>\n",
       "      <td>1.0</td>\n",
       "      <td>0</td>\n",
       "      <td>...</td>\n",
       "      <td>0</td>\n",
       "      <td>0</td>\n",
       "      <td>0</td>\n",
       "      <td>0</td>\n",
       "      <td>0</td>\n",
       "      <td>0</td>\n",
       "      <td>0</td>\n",
       "      <td>0</td>\n",
       "      <td>0</td>\n",
       "      <td>0</td>\n",
       "    </tr>\n",
       "    <tr>\n",
       "      <th>6105431.0</th>\n",
       "      <td>1922</td>\n",
       "      <td>1.190221e+06</td>\n",
       "      <td>4817499.665</td>\n",
       "      <td>0.0</td>\n",
       "      <td>1.0</td>\n",
       "      <td>0.0</td>\n",
       "      <td>0.0</td>\n",
       "      <td>0.0</td>\n",
       "      <td>1.0</td>\n",
       "      <td>0</td>\n",
       "      <td>...</td>\n",
       "      <td>0</td>\n",
       "      <td>0</td>\n",
       "      <td>0</td>\n",
       "      <td>0</td>\n",
       "      <td>0</td>\n",
       "      <td>0</td>\n",
       "      <td>0</td>\n",
       "      <td>0</td>\n",
       "      <td>0</td>\n",
       "      <td>0</td>\n",
       "    </tr>\n",
       "    <tr>\n",
       "      <th>5014154.0</th>\n",
       "      <td>2444</td>\n",
       "      <td>1.791515e+06</td>\n",
       "      <td>4504119.671</td>\n",
       "      <td>0.0</td>\n",
       "      <td>0.0</td>\n",
       "      <td>0.0</td>\n",
       "      <td>0.0</td>\n",
       "      <td>0.0</td>\n",
       "      <td>1.0</td>\n",
       "      <td>0</td>\n",
       "      <td>...</td>\n",
       "      <td>0</td>\n",
       "      <td>0</td>\n",
       "      <td>0</td>\n",
       "      <td>0</td>\n",
       "      <td>0</td>\n",
       "      <td>0</td>\n",
       "      <td>0</td>\n",
       "      <td>0</td>\n",
       "      <td>0</td>\n",
       "      <td>0</td>\n",
       "    </tr>\n",
       "    <tr>\n",
       "      <th>6735499.0</th>\n",
       "      <td>1474</td>\n",
       "      <td>2.024315e+06</td>\n",
       "      <td>4919416.722</td>\n",
       "      <td>0.0</td>\n",
       "      <td>0.0</td>\n",
       "      <td>0.0</td>\n",
       "      <td>0.0</td>\n",
       "      <td>0.0</td>\n",
       "      <td>1.0</td>\n",
       "      <td>0</td>\n",
       "      <td>...</td>\n",
       "      <td>0</td>\n",
       "      <td>0</td>\n",
       "      <td>0</td>\n",
       "      <td>0</td>\n",
       "      <td>0</td>\n",
       "      <td>0</td>\n",
       "      <td>0</td>\n",
       "      <td>0</td>\n",
       "      <td>0</td>\n",
       "      <td>0</td>\n",
       "    </tr>\n",
       "  </tbody>\n",
       "</table>\n",
       "<p>5 rows × 67 columns</p>\n",
       "</div>"
      ],
      "text/plain": [
       "             sessions      duration   mega_bytes  case_count  comp_flag  \\\n",
       "account_num                                                               \n",
       "2181914.0         878  1.005832e+06  4894219.706         0.0        0.0   \n",
       "9858995.0         240  2.289019e+05  4664070.710         0.0        0.0   \n",
       "6105431.0        1922  1.190221e+06  4817499.665         0.0        1.0   \n",
       "5014154.0        2444  1.791515e+06  4504119.671         0.0        0.0   \n",
       "6735499.0        1474  2.024315e+06  4919416.722         0.0        0.0   \n",
       "\n",
       "             train_flag  pcs_flag  holiday_flag  churn  base_AFACDY  \\\n",
       "account_num                                                           \n",
       "2181914.0           0.0       1.0           0.0    1.0            0   \n",
       "9858995.0           1.0       0.0           0.0    1.0            0   \n",
       "6105431.0           0.0       0.0           0.0    1.0            0   \n",
       "5014154.0           0.0       0.0           0.0    1.0            0   \n",
       "6735499.0           0.0       0.0           0.0    1.0            0   \n",
       "\n",
       "                ...      base_MCCMUJ  base_MCCPEN  base_MCHAWI  base_MCMIRA  \\\n",
       "account_num     ...                                                           \n",
       "2181914.0       ...                0            0            0            0   \n",
       "9858995.0       ...                0            0            0            0   \n",
       "6105431.0       ...                0            0            0            0   \n",
       "5014154.0       ...                0            0            0            0   \n",
       "6735499.0       ...                0            0            0            0   \n",
       "\n",
       "             base_MCPRSI  base_MCQTCO  base_MCSDRC  base_MCSMTH  base_MCYUMA  \\\n",
       "account_num                                                                    \n",
       "2181914.0              0            0            0            0            0   \n",
       "9858995.0              0            0            0            0            0   \n",
       "6105431.0              0            0            0            0            0   \n",
       "5014154.0              0            0            0            0            0   \n",
       "6735499.0              0            0            0            0            0   \n",
       "\n",
       "             base_TOKYO  \n",
       "account_num              \n",
       "2181914.0             0  \n",
       "9858995.0             0  \n",
       "6105431.0             0  \n",
       "5014154.0             0  \n",
       "6735499.0             0  \n",
       "\n",
       "[5 rows x 67 columns]"
      ]
     },
     "execution_count": 4,
     "metadata": {},
     "output_type": "execute_result"
    }
   ],
   "source": [
    "cust_df.head()"
   ]
  },
  {
   "cell_type": "markdown",
   "metadata": {},
   "source": [
    "## Resample to balance the dataset - upsample the minority class (customers who churn) so it is the same size as the majority (customers who do not churn)"
   ]
  },
  {
   "cell_type": "code",
   "execution_count": 5,
   "metadata": {
    "collapsed": false
   },
   "outputs": [
    {
     "name": "stdout",
     "output_type": "stream",
     "text": [
      "31537 18893\n"
     ]
    }
   ],
   "source": [
    "majority = cust_df[cust_df['churn']==0]\n",
    "minority = cust_df[cust_df['churn']==1]\n",
    "print(len(majority), len(minority))"
   ]
  },
  {
   "cell_type": "code",
   "execution_count": 6,
   "metadata": {
    "collapsed": false
   },
   "outputs": [
    {
     "data": {
      "text/plain": [
       "1.0    31537\n",
       "0.0    31537\n",
       "Name: churn, dtype: int64"
      ]
     },
     "execution_count": 6,
     "metadata": {},
     "output_type": "execute_result"
    }
   ],
   "source": [
    "minority_upsampled = resample(minority, \n",
    "                                 replace=True,     \n",
    "                                 n_samples=31537,    \n",
    "                                 random_state=42) \n",
    " \n",
    "upsampled = pd.concat([majority, minority_upsampled])\n",
    " \n",
    "upsampled['churn'].value_counts()"
   ]
  },
  {
   "cell_type": "markdown",
   "metadata": {
    "collapsed": true
   },
   "source": [
    "If we didn't resample the dataset to balance the churn and non-churn classes, we could also look carefully at the classification metrics and confusion matrix for each model. The confusion matrix gives us a breakdown of correct and incorrect predictions for each class. The precision and recall metrics for a classifier tell us in different ways how accurate our model predicts the class. Depending on what we want to avoid more - incorrectly predicting a customer will churn when they don't, or incorrectly predicting that they won't churn when they do - we would want to chose a different threshold for our model's class decisions based on these values.\n",
    "\n",
    "* Recall: when a customer churns, how often does the model predict that correctly? \n",
    "\n",
    "* Precision: when a classifier predicts a customer will churn, how often does that customer actually churn?\n",
    "\n",
    "We can also look at the F1 score (a weighted average of precision and recall) or Kappa (accuracy normalized by the imbalance of the classes)."
   ]
  },
  {
   "cell_type": "markdown",
   "metadata": {},
   "source": [
    "## Separate \"churn\" as the target (y) and train-test-split the dataset"
   ]
  },
  {
   "cell_type": "markdown",
   "metadata": {},
   "source": [
    "Original, imbalanced dataset:"
   ]
  },
  {
   "cell_type": "code",
   "execution_count": 7,
   "metadata": {
    "collapsed": false
   },
   "outputs": [],
   "source": [
    "X = cust_df.drop(['churn'], axis=1)\n",
    "y = cust_df['churn']"
   ]
  },
  {
   "cell_type": "code",
   "execution_count": 8,
   "metadata": {
    "collapsed": false
   },
   "outputs": [
    {
     "data": {
      "text/plain": [
       "(50430, 66)"
      ]
     },
     "execution_count": 8,
     "metadata": {},
     "output_type": "execute_result"
    }
   ],
   "source": [
    "X.shape"
   ]
  },
  {
   "cell_type": "code",
   "execution_count": 9,
   "metadata": {
    "collapsed": false
   },
   "outputs": [
    {
     "data": {
      "text/plain": [
       "(50430,)"
      ]
     },
     "execution_count": 9,
     "metadata": {},
     "output_type": "execute_result"
    }
   ],
   "source": [
    "y.shape"
   ]
  },
  {
   "cell_type": "code",
   "execution_count": 10,
   "metadata": {
    "collapsed": true
   },
   "outputs": [],
   "source": [
    "X_train, X_test, y_train, y_test = train_test_split(X, y, test_size = .3, random_state = 42)"
   ]
  },
  {
   "cell_type": "markdown",
   "metadata": {},
   "source": [
    "Resampled, balanced dataset:"
   ]
  },
  {
   "cell_type": "code",
   "execution_count": 11,
   "metadata": {
    "collapsed": false
   },
   "outputs": [],
   "source": [
    "X_resamp = upsampled.drop(['churn'], axis=1)\n",
    "y_resamp = upsampled['churn']"
   ]
  },
  {
   "cell_type": "code",
   "execution_count": 12,
   "metadata": {
    "collapsed": false
   },
   "outputs": [
    {
     "data": {
      "text/plain": [
       "(63074, 66)"
      ]
     },
     "execution_count": 12,
     "metadata": {},
     "output_type": "execute_result"
    }
   ],
   "source": [
    "X_resamp.shape"
   ]
  },
  {
   "cell_type": "code",
   "execution_count": 13,
   "metadata": {
    "collapsed": false
   },
   "outputs": [
    {
     "data": {
      "text/plain": [
       "(63074,)"
      ]
     },
     "execution_count": 13,
     "metadata": {},
     "output_type": "execute_result"
    }
   ],
   "source": [
    "y_resamp.shape"
   ]
  },
  {
   "cell_type": "code",
   "execution_count": 14,
   "metadata": {
    "collapsed": true
   },
   "outputs": [],
   "source": [
    "X_train_rs, X_test_rs, y_train_rs, y_test_rs = train_test_split(X_resamp, y_resamp, test_size = .3, random_state = 42)"
   ]
  },
  {
   "cell_type": "markdown",
   "metadata": {},
   "source": [
    "## Scale the data"
   ]
  },
  {
   "cell_type": "code",
   "execution_count": 15,
   "metadata": {
    "collapsed": true
   },
   "outputs": [],
   "source": [
    "scaler = StandardScaler()"
   ]
  },
  {
   "cell_type": "code",
   "execution_count": 16,
   "metadata": {
    "collapsed": true
   },
   "outputs": [],
   "source": [
    "X_train_scaled = scaler.fit_transform(X_train)\n",
    "X_test_scaled = scaler.transform(X_test)"
   ]
  },
  {
   "cell_type": "code",
   "execution_count": 17,
   "metadata": {
    "collapsed": true
   },
   "outputs": [],
   "source": [
    "X_train_scaled_rs = scaler.fit_transform(X_train_rs)\n",
    "X_test_scaled_rs = scaler.transform(X_test_rs)"
   ]
  },
  {
   "cell_type": "code",
   "execution_count": 18,
   "metadata": {
    "collapsed": true
   },
   "outputs": [],
   "source": [
    "X_scaled = scaler.fit_transform(X)"
   ]
  },
  {
   "cell_type": "code",
   "execution_count": 19,
   "metadata": {
    "collapsed": true
   },
   "outputs": [],
   "source": [
    "X_scaled_rs = scaler.fit_transform(X_resamp)"
   ]
  },
  {
   "cell_type": "markdown",
   "metadata": {},
   "source": [
    "## Principal Component Analysis (PCA)"
   ]
  },
  {
   "cell_type": "code",
   "execution_count": 19,
   "metadata": {
    "collapsed": true
   },
   "outputs": [],
   "source": [
    "pca=PCA(n_components=10)"
   ]
  },
  {
   "cell_type": "code",
   "execution_count": 20,
   "metadata": {
    "collapsed": false
   },
   "outputs": [],
   "source": [
    "X_pca = pca.fit_transform(X_scaled_rs)"
   ]
  },
  {
   "cell_type": "code",
   "execution_count": 21,
   "metadata": {
    "collapsed": false
   },
   "outputs": [
    {
     "data": {
      "text/plain": [
       "<matplotlib.text.Text at 0x115c5ccc0>"
      ]
     },
     "execution_count": 21,
     "metadata": {},
     "output_type": "execute_result"
    },
    {
     "data": {
      "image/png": "[encoded data removed]",
      "text/plain": [
       "<matplotlib.figure.Figure at 0x111958cf8>"
      ]
     },
     "metadata": {},
     "output_type": "display_data"
    }
   ],
   "source": [
    "plt.figure(figsize=(10,10))\n",
    "plt.scatter(X_pca[:,0], X_pca[:,1], c=y_resamp)\n",
    "\n",
    "plt.xlabel(\"first PC\")\n",
    "plt.ylabel(\"second PC\")"
   ]
  },
  {
   "cell_type": "code",
   "execution_count": 22,
   "metadata": {
    "collapsed": false
   },
   "outputs": [
    {
     "data": {
      "text/plain": [
       "<matplotlib.text.Text at 0x118804828>"
      ]
     },
     "execution_count": 22,
     "metadata": {},
     "output_type": "execute_result"
    },
    {
     "data": {
      "image/png": "[encoded data removed]",
      "text/plain": [
       "<matplotlib.figure.Figure at 0x1174ac208>"
      ]
     },
     "metadata": {},
     "output_type": "display_data"
    }
   ],
   "source": [
    "plt.figure(figsize=(10,10))\n",
    "plt.scatter(X_pca[:,0], X_pca[:,2], c=y_resamp)\n",
    "\n",
    "plt.xlabel(\"first PC\")\n",
    "plt.ylabel(\"third PC\")"
   ]
  },
  {
   "cell_type": "code",
   "execution_count": 23,
   "metadata": {
    "collapsed": false
   },
   "outputs": [
    {
     "data": {
      "text/plain": [
       "<matplotlib.text.Text at 0x1174c7b38>"
      ]
     },
     "execution_count": 23,
     "metadata": {},
     "output_type": "execute_result"
    },
    {
     "data": {
      "image/png": "[encoded data removed]",
      "text/plain": [
       "<matplotlib.figure.Figure at 0x12d101470>"
      ]
     },
     "metadata": {},
     "output_type": "display_data"
    }
   ],
   "source": [
    "plt.figure(figsize=(10,10))\n",
    "plt.scatter(X_pca[:,1], X_pca[:,3], c=y_resamp)\n",
    "\n",
    "plt.xlabel(\"second PC\")\n",
    "plt.ylabel(\"third PC\")"
   ]
  },
  {
   "cell_type": "code",
   "execution_count": 24,
   "metadata": {
    "collapsed": false
   },
   "outputs": [
    {
     "data": {
      "text/plain": [
       "<matplotlib.text.Text at 0x12d0ef240>"
      ]
     },
     "execution_count": 24,
     "metadata": {},
     "output_type": "execute_result"
    },
    {
     "data": {
      "image/png": "[encoded data removed]",
      "text/plain": [
       "<matplotlib.figure.Figure at 0x12d543828>"
      ]
     },
     "metadata": {},
     "output_type": "display_data"
    }
   ],
   "source": [
    "plt.matshow(pca.components_[0:5], cmap='viridis')\n",
    "plt.yticks([0,1,2,3], ['pc1', 'pc2', 'pc3', 'pc4'])\n",
    "plt.colorbar()\n",
    "plt.xticks(range(len(X.columns)),\n",
    "          X.columns, rotation=90, ha='right')\n",
    "plt.xlabel('Feature')\n",
    "plt.ylabel('Principal components')"
   ]
  },
  {
   "cell_type": "markdown",
   "metadata": {},
   "source": [
    "This looks like the first principal component contains mostly the level of use features."
   ]
  },
  {
   "cell_type": "markdown",
   "metadata": {},
   "source": [
    "Look at explained variance for the PCA:"
   ]
  },
  {
   "cell_type": "code",
   "execution_count": 25,
   "metadata": {
    "collapsed": false
   },
   "outputs": [
    {
     "data": {
      "text/plain": [
       "array([ 0.04449346,  0.03860237,  0.02380626,  0.02079955,  0.01665859,\n",
       "        0.01650163,  0.01614731,  0.01601675,  0.01579542,  0.01574   ])"
      ]
     },
     "execution_count": 25,
     "metadata": {},
     "output_type": "execute_result"
    }
   ],
   "source": [
    "pca.explained_variance_ratio_"
   ]
  },
  {
   "cell_type": "markdown",
   "metadata": {},
   "source": [
    "Scree plot showing the explained variance for each of the principal components and the cumulative explained variance:"
   ]
  },
  {
   "cell_type": "code",
   "execution_count": 26,
   "metadata": {
    "collapsed": false
   },
   "outputs": [
    {
     "data": {
      "text/plain": [
       "<Container object of 10 artists>"
      ]
     },
     "execution_count": 26,
     "metadata": {},
     "output_type": "execute_result"
    },
    {
     "data": {
      "image/png": "[encoded data removed]",
      "text/plain": [
       "<matplotlib.figure.Figure at 0x1119589b0>"
      ]
     },
     "metadata": {},
     "output_type": "display_data"
    }
   ],
   "source": [
    "evr = pca.explained_variance_ratio_\n",
    "x = list(range(len(evr)))\n",
    "\n",
    "plt.plot(x, np.cumsum(evr))\n",
    "plt.bar(x, evr)"
   ]
  },
  {
   "cell_type": "markdown",
   "metadata": {},
   "source": [
    "PCA with 20 components explains only about 40% of the variance in the data. Therefore we wouldn't want to use PCA to reduce the dimensionality in our data - we would lose too much information, since we can't capture a lot of the variance in a small number of components relative to the number of features in the original dataset. As a next step, we could try doing a Kernel PCA to see if it deals with non-linearity in the data."
   ]
  },
  {
   "cell_type": "markdown",
   "metadata": {},
   "source": [
    "## Predictive models"
   ]
  },
  {
   "cell_type": "markdown",
   "metadata": {},
   "source": [
    "#### Logistic regression"
   ]
  },
  {
   "cell_type": "markdown",
   "metadata": {},
   "source": [
    "With non-resampled data:"
   ]
  },
  {
   "cell_type": "code",
   "execution_count": 36,
   "metadata": {
    "collapsed": true
   },
   "outputs": [],
   "source": [
    "lr = LogisticRegression(class_weight='balanced')"
   ]
  },
  {
   "cell_type": "code",
   "execution_count": 28,
   "metadata": {
    "collapsed": false
   },
   "outputs": [],
   "source": [
    "lr_original = lr.fit(X_train_scaled, y_train)"
   ]
  },
  {
   "cell_type": "code",
   "execution_count": 29,
   "metadata": {
    "collapsed": false
   },
   "outputs": [
    {
     "data": {
      "text/plain": [
       "0.69714738959236278"
      ]
     },
     "execution_count": 29,
     "metadata": {},
     "output_type": "execute_result"
    }
   ],
   "source": [
    "lr_original.score(X_train_scaled, y_train)"
   ]
  },
  {
   "cell_type": "code",
   "execution_count": 30,
   "metadata": {
    "collapsed": false
   },
   "outputs": [
    {
     "data": {
      "text/plain": [
       "0.6940974287791658"
      ]
     },
     "execution_count": 30,
     "metadata": {},
     "output_type": "execute_result"
    }
   ],
   "source": [
    "lr_original.score(X_test_scaled, y_test)"
   ]
  },
  {
   "cell_type": "code",
   "execution_count": 31,
   "metadata": {
    "collapsed": false
   },
   "outputs": [],
   "source": [
    "y_test_pred = lr_original.predict(X_test_scaled)"
   ]
  },
  {
   "cell_type": "code",
   "execution_count": 32,
   "metadata": {
    "collapsed": false
   },
   "outputs": [
    {
     "data": {
      "text/html": [
       "<div>\n",
       "<table border=\"1\" class=\"dataframe\">\n",
       "  <thead>\n",
       "    <tr style=\"text-align: right;\">\n",
       "      <th></th>\n",
       "      <th>predicted non-churn</th>\n",
       "      <th>predicted churn</th>\n",
       "    </tr>\n",
       "  </thead>\n",
       "  <tbody>\n",
       "    <tr>\n",
       "      <th>true non-churn</th>\n",
       "      <td>6223</td>\n",
       "      <td>3207</td>\n",
       "    </tr>\n",
       "    <tr>\n",
       "      <th>true churn</th>\n",
       "      <td>1421</td>\n",
       "      <td>4278</td>\n",
       "    </tr>\n",
       "  </tbody>\n",
       "</table>\n",
       "</div>"
      ],
      "text/plain": [
       "                predicted non-churn  predicted churn\n",
       "true non-churn                 6223             3207\n",
       "true churn                     1421             4278"
      ]
     },
     "execution_count": 32,
     "metadata": {},
     "output_type": "execute_result"
    }
   ],
   "source": [
    "confusion = confusion_matrix(y_test, y_test_pred)\n",
    "pd.DataFrame(confusion, columns=['predicted non-churn', 'predicted churn'], index=['true non-churn', 'true churn'])"
   ]
  },
  {
   "cell_type": "code",
   "execution_count": 33,
   "metadata": {
    "collapsed": false
   },
   "outputs": [
    {
     "name": "stdout",
     "output_type": "stream",
     "text": [
      "             precision    recall  f1-score   support\n",
      "\n",
      "        0.0       0.81      0.66      0.73      9430\n",
      "        1.0       0.57      0.75      0.65      5699\n",
      "\n",
      "avg / total       0.72      0.69      0.70     15129\n",
      "\n"
     ]
    }
   ],
   "source": [
    "print(classification_report(y_test, y_test_pred))"
   ]
  },
  {
   "cell_type": "markdown",
   "metadata": {},
   "source": [
    "The accuracy is not much better than the baseline - if we guessed 'non-churn' every time, we would be accurate 64% of the time since 64% of customers don't churn. Let's see how it does with our manually balanced classes data."
   ]
  },
  {
   "cell_type": "code",
   "execution_count": 49,
   "metadata": {
    "collapsed": false
   },
   "outputs": [],
   "source": [
    "lr_rs = lr.fit(X_train_scaled_rs, y_train_rs)"
   ]
  },
  {
   "cell_type": "code",
   "execution_count": 35,
   "metadata": {
    "collapsed": false
   },
   "outputs": [
    {
     "data": {
      "text/plain": [
       "0.71189780525922408"
      ]
     },
     "execution_count": 35,
     "metadata": {},
     "output_type": "execute_result"
    }
   ],
   "source": [
    "lr_rs.score(X_train_scaled_rs, y_train_rs)"
   ]
  },
  {
   "cell_type": "code",
   "execution_count": 36,
   "metadata": {
    "collapsed": false
   },
   "outputs": [
    {
     "data": {
      "text/plain": [
       "0.70918987475558848"
      ]
     },
     "execution_count": 36,
     "metadata": {},
     "output_type": "execute_result"
    }
   ],
   "source": [
    "lr_rs.score(X_test_scaled_rs, y_test_rs)"
   ]
  },
  {
   "cell_type": "code",
   "execution_count": 37,
   "metadata": {
    "collapsed": true
   },
   "outputs": [],
   "source": [
    "y_test_pred_rs = lr_rs.predict(X_test_scaled_rs)"
   ]
  },
  {
   "cell_type": "code",
   "execution_count": 38,
   "metadata": {
    "collapsed": false
   },
   "outputs": [
    {
     "data": {
      "text/html": [
       "<div>\n",
       "<table border=\"1\" class=\"dataframe\">\n",
       "  <thead>\n",
       "    <tr style=\"text-align: right;\">\n",
       "      <th></th>\n",
       "      <th>predicted non-churn</th>\n",
       "      <th>predicted churn</th>\n",
       "    </tr>\n",
       "  </thead>\n",
       "  <tbody>\n",
       "    <tr>\n",
       "      <th>true non-churn</th>\n",
       "      <td>6268</td>\n",
       "      <td>3157</td>\n",
       "    </tr>\n",
       "    <tr>\n",
       "      <th>true churn</th>\n",
       "      <td>2346</td>\n",
       "      <td>7152</td>\n",
       "    </tr>\n",
       "  </tbody>\n",
       "</table>\n",
       "</div>"
      ],
      "text/plain": [
       "                predicted non-churn  predicted churn\n",
       "true non-churn                 6268             3157\n",
       "true churn                     2346             7152"
      ]
     },
     "execution_count": 38,
     "metadata": {},
     "output_type": "execute_result"
    }
   ],
   "source": [
    "confusion_rs = confusion_matrix(y_test_rs, y_test_pred_rs)\n",
    "pd.DataFrame(confusion_rs, columns=['predicted non-churn', 'predicted churn'], index=['true non-churn', 'true churn'])"
   ]
  },
  {
   "cell_type": "code",
   "execution_count": 39,
   "metadata": {
    "collapsed": false
   },
   "outputs": [
    {
     "name": "stdout",
     "output_type": "stream",
     "text": [
      "             precision    recall  f1-score   support\n",
      "\n",
      "        0.0       0.73      0.67      0.69      9425\n",
      "        1.0       0.69      0.75      0.72      9498\n",
      "\n",
      "avg / total       0.71      0.71      0.71     18923\n",
      "\n"
     ]
    }
   ],
   "source": [
    "print(classification_report(y_test_rs, y_test_pred_rs))"
   ]
  },
  {
   "cell_type": "markdown",
   "metadata": {},
   "source": [
    "This is actually much better, since the baseline accuracy would now be only 50% (if guessing randomly, we would have a 50% of correctly predicting churn)."
   ]
  },
  {
   "cell_type": "markdown",
   "metadata": {},
   "source": [
    "#### KNearest Neighbors Classifier"
   ]
  },
  {
   "cell_type": "code",
   "execution_count": 40,
   "metadata": {
    "collapsed": true
   },
   "outputs": [],
   "source": [
    "knn = KNeighborsClassifier()"
   ]
  },
  {
   "cell_type": "code",
   "execution_count": 41,
   "metadata": {
    "collapsed": false
   },
   "outputs": [
    {
     "data": {
      "text/plain": [
       "KNeighborsClassifier(algorithm='auto', leaf_size=30, metric='minkowski',\n",
       "           metric_params=None, n_jobs=1, n_neighbors=5, p=2,\n",
       "           weights='uniform')"
      ]
     },
     "execution_count": 41,
     "metadata": {},
     "output_type": "execute_result"
    }
   ],
   "source": [
    "knn.fit(X_train_scaled_rs, y_train_rs)"
   ]
  },
  {
   "cell_type": "code",
   "execution_count": null,
   "metadata": {
    "collapsed": false
   },
   "outputs": [],
   "source": [
    "knn.score(X_train_scaled_rs, y_train_rs)"
   ]
  },
  {
   "cell_type": "code",
   "execution_count": null,
   "metadata": {
    "collapsed": false
   },
   "outputs": [
    {
     "data": {
      "text/plain": [
       "0.72155577868202714"
      ]
     },
     "execution_count": 43,
     "metadata": {},
     "output_type": "execute_result"
    }
   ],
   "source": [
    "knn.score(X_test_scaled_rs, y_test_rs)"
   ]
  },
  {
   "cell_type": "markdown",
   "metadata": {},
   "source": [
    "About the same as logistic regression."
   ]
  },
  {
   "cell_type": "markdown",
   "metadata": {},
   "source": [
    "#### AdaBoost"
   ]
  },
  {
   "cell_type": "code",
   "execution_count": null,
   "metadata": {
    "collapsed": false
   },
   "outputs": [],
   "source": [
    "# default base estimator is DecisionTree\n",
    "ada = AdaBoostClassifier()"
   ]
  },
  {
   "cell_type": "code",
   "execution_count": null,
   "metadata": {
    "collapsed": false
   },
   "outputs": [],
   "source": [
    "ada.fit(X_train_scaled_rs, y_train_rs)"
   ]
  },
  {
   "cell_type": "code",
   "execution_count": null,
   "metadata": {
    "collapsed": false
   },
   "outputs": [],
   "source": [
    "ada.score(X_train_scaled_rs, y_train_rs)"
   ]
  },
  {
   "cell_type": "code",
   "execution_count": null,
   "metadata": {
    "collapsed": false
   },
   "outputs": [],
   "source": [
    "ada.score(X_test_scaled_rs, y_test_rs)"
   ]
  },
  {
   "cell_type": "markdown",
   "metadata": {},
   "source": [
    "The AdaBoost doesn't really improve our score over KNN or Logistic Regression."
   ]
  },
  {
   "cell_type": "markdown",
   "metadata": {},
   "source": [
    "#### Random Forest"
   ]
  },
  {
   "cell_type": "markdown",
   "metadata": {},
   "source": [
    "With original dataset (unbalanced):"
   ]
  },
  {
   "cell_type": "code",
   "execution_count": 20,
   "metadata": {
    "collapsed": false
   },
   "outputs": [],
   "source": [
    "rf = RandomForestClassifier(class_weight='balanced')"
   ]
  },
  {
   "cell_type": "code",
   "execution_count": 21,
   "metadata": {
    "collapsed": false
   },
   "outputs": [
    {
     "data": {
      "text/plain": [
       "RandomForestClassifier(bootstrap=True, class_weight='balanced',\n",
       "            criterion='gini', max_depth=None, max_features='auto',\n",
       "            max_leaf_nodes=None, min_impurity_split=1e-07,\n",
       "            min_samples_leaf=1, min_samples_split=2,\n",
       "            min_weight_fraction_leaf=0.0, n_estimators=10, n_jobs=1,\n",
       "            oob_score=False, random_state=None, verbose=0,\n",
       "            warm_start=False)"
      ]
     },
     "execution_count": 21,
     "metadata": {},
     "output_type": "execute_result"
    }
   ],
   "source": [
    "rf.fit(X_train_scaled, y_train)"
   ]
  },
  {
   "cell_type": "code",
   "execution_count": 22,
   "metadata": {
    "collapsed": false
   },
   "outputs": [
    {
     "data": {
      "text/plain": [
       "0.97923571570210477"
      ]
     },
     "execution_count": 22,
     "metadata": {},
     "output_type": "execute_result"
    }
   ],
   "source": [
    "rf.score(X_train_scaled, y_train)"
   ]
  },
  {
   "cell_type": "code",
   "execution_count": 23,
   "metadata": {
    "collapsed": false
   },
   "outputs": [
    {
     "data": {
      "text/plain": [
       "0.69548549144028027"
      ]
     },
     "execution_count": 23,
     "metadata": {},
     "output_type": "execute_result"
    }
   ],
   "source": [
    "rf.score(X_test_scaled, y_test)"
   ]
  },
  {
   "cell_type": "code",
   "execution_count": 24,
   "metadata": {
    "collapsed": true
   },
   "outputs": [],
   "source": [
    "y_test_pred = rf.predict(X_test_scaled)"
   ]
  },
  {
   "cell_type": "code",
   "execution_count": 25,
   "metadata": {
    "collapsed": false
   },
   "outputs": [
    {
     "data": {
      "text/html": [
       "<div>\n",
       "<table border=\"1\" class=\"dataframe\">\n",
       "  <thead>\n",
       "    <tr style=\"text-align: right;\">\n",
       "      <th></th>\n",
       "      <th>predicted non-churn</th>\n",
       "      <th>predicted churn</th>\n",
       "    </tr>\n",
       "  </thead>\n",
       "  <tbody>\n",
       "    <tr>\n",
       "      <th>true non-churn</th>\n",
       "      <td>7768</td>\n",
       "      <td>1662</td>\n",
       "    </tr>\n",
       "    <tr>\n",
       "      <th>true churn</th>\n",
       "      <td>2945</td>\n",
       "      <td>2754</td>\n",
       "    </tr>\n",
       "  </tbody>\n",
       "</table>\n",
       "</div>"
      ],
      "text/plain": [
       "                predicted non-churn  predicted churn\n",
       "true non-churn                 7768             1662\n",
       "true churn                     2945             2754"
      ]
     },
     "execution_count": 25,
     "metadata": {},
     "output_type": "execute_result"
    }
   ],
   "source": [
    "confusion = confusion_matrix(y_test, y_test_pred)\n",
    "pd.DataFrame(confusion, columns=['predicted non-churn', 'predicted churn'], index=['true non-churn', 'true churn'])"
   ]
  },
  {
   "cell_type": "code",
   "execution_count": 26,
   "metadata": {
    "collapsed": false
   },
   "outputs": [
    {
     "name": "stdout",
     "output_type": "stream",
     "text": [
      "             precision    recall  f1-score   support\n",
      "\n",
      "        0.0       0.73      0.82      0.77      9430\n",
      "        1.0       0.62      0.48      0.54      5699\n",
      "\n",
      "avg / total       0.69      0.70      0.69     15129\n",
      "\n"
     ]
    }
   ],
   "source": [
    "print(classification_report(y_test, y_test_pred))"
   ]
  },
  {
   "cell_type": "markdown",
   "metadata": {},
   "source": [
    "Resampled, balanced dataset:"
   ]
  },
  {
   "cell_type": "code",
   "execution_count": 27,
   "metadata": {
    "collapsed": false
   },
   "outputs": [],
   "source": [
    "rf2 = RandomForestClassifier()"
   ]
  },
  {
   "cell_type": "code",
   "execution_count": 28,
   "metadata": {
    "collapsed": false
   },
   "outputs": [
    {
     "data": {
      "text/plain": [
       "RandomForestClassifier(bootstrap=True, class_weight=None, criterion='gini',\n",
       "            max_depth=None, max_features='auto', max_leaf_nodes=None,\n",
       "            min_impurity_split=1e-07, min_samples_leaf=1,\n",
       "            min_samples_split=2, min_weight_fraction_leaf=0.0,\n",
       "            n_estimators=10, n_jobs=1, oob_score=False, random_state=None,\n",
       "            verbose=0, warm_start=False)"
      ]
     },
     "execution_count": 28,
     "metadata": {},
     "output_type": "execute_result"
    }
   ],
   "source": [
    "rf2.fit(X_train_scaled_rs, y_train_rs)"
   ]
  },
  {
   "cell_type": "code",
   "execution_count": 29,
   "metadata": {
    "collapsed": false
   },
   "outputs": [
    {
     "data": {
      "text/plain": [
       "0.98987565400557176"
      ]
     },
     "execution_count": 29,
     "metadata": {},
     "output_type": "execute_result"
    }
   ],
   "source": [
    "rf2.score(X_train_scaled_rs, y_train_rs)"
   ]
  },
  {
   "cell_type": "code",
   "execution_count": 30,
   "metadata": {
    "collapsed": false
   },
   "outputs": [
    {
     "data": {
      "text/plain": [
       "0.81345452623791159"
      ]
     },
     "execution_count": 30,
     "metadata": {},
     "output_type": "execute_result"
    }
   ],
   "source": [
    "rf2.score(X_test_scaled_rs, y_test_rs)"
   ]
  },
  {
   "cell_type": "code",
   "execution_count": 31,
   "metadata": {
    "collapsed": true
   },
   "outputs": [],
   "source": [
    "y_test_pred = rf2.predict(X_test_scaled_rs)"
   ]
  },
  {
   "cell_type": "code",
   "execution_count": 32,
   "metadata": {
    "collapsed": false
   },
   "outputs": [
    {
     "data": {
      "text/html": [
       "<div>\n",
       "<table border=\"1\" class=\"dataframe\">\n",
       "  <thead>\n",
       "    <tr style=\"text-align: right;\">\n",
       "      <th></th>\n",
       "      <th>predicted non-churn</th>\n",
       "      <th>predicted churn</th>\n",
       "    </tr>\n",
       "  </thead>\n",
       "  <tbody>\n",
       "    <tr>\n",
       "      <th>true non-churn</th>\n",
       "      <td>7435</td>\n",
       "      <td>1990</td>\n",
       "    </tr>\n",
       "    <tr>\n",
       "      <th>true churn</th>\n",
       "      <td>1540</td>\n",
       "      <td>7958</td>\n",
       "    </tr>\n",
       "  </tbody>\n",
       "</table>\n",
       "</div>"
      ],
      "text/plain": [
       "                predicted non-churn  predicted churn\n",
       "true non-churn                 7435             1990\n",
       "true churn                     1540             7958"
      ]
     },
     "execution_count": 32,
     "metadata": {},
     "output_type": "execute_result"
    }
   ],
   "source": [
    "confusion = confusion_matrix(y_test_rs, y_test_pred)\n",
    "pd.DataFrame(confusion, columns=['predicted non-churn', 'predicted churn'], index=['true non-churn', 'true churn'])"
   ]
  },
  {
   "cell_type": "code",
   "execution_count": 33,
   "metadata": {
    "collapsed": false
   },
   "outputs": [
    {
     "name": "stdout",
     "output_type": "stream",
     "text": [
      "             precision    recall  f1-score   support\n",
      "\n",
      "        0.0       0.83      0.79      0.81      9425\n",
      "        1.0       0.80      0.84      0.82      9498\n",
      "\n",
      "avg / total       0.81      0.81      0.81     18923\n",
      "\n"
     ]
    }
   ],
   "source": [
    "print(classification_report(y_test_rs, y_test_pred))"
   ]
  },
  {
   "cell_type": "markdown",
   "metadata": {},
   "source": [
    "Random Forest has more accurate predictions, which is to be expected. It also does better with our manually balanced data. It is clearly overfitting to the training data, though."
   ]
  },
  {
   "cell_type": "markdown",
   "metadata": {},
   "source": [
    "#### Use GridSearch CV to find the optimal hyperparameters for models"
   ]
  },
  {
   "cell_type": "markdown",
   "metadata": {},
   "source": [
    "GridSearch the Logistic Regression model with different parameters for regularization strength and technique:"
   ]
  },
  {
   "cell_type": "code",
   "execution_count": 34,
   "metadata": {
    "collapsed": true
   },
   "outputs": [],
   "source": [
    "lr_params = {\n",
    "    'C':np.logspace(-3,3,3),\n",
    "    'penalty':['l2','l1']\n",
    "}"
   ]
  },
  {
   "cell_type": "code",
   "execution_count": 37,
   "metadata": {
    "collapsed": false
   },
   "outputs": [],
   "source": [
    "lr_gs = GridSearchCV(lr, param_grid=lr_params)"
   ]
  },
  {
   "cell_type": "code",
   "execution_count": 38,
   "metadata": {
    "collapsed": false
   },
   "outputs": [
    {
     "data": {
      "text/plain": [
       "GridSearchCV(cv=None, error_score='raise',\n",
       "       estimator=LogisticRegression(C=1.0, class_weight='balanced', dual=False,\n",
       "          fit_intercept=True, intercept_scaling=1, max_iter=100,\n",
       "          multi_class='ovr', n_jobs=1, penalty='l2', random_state=None,\n",
       "          solver='liblinear', tol=0.0001, verbose=0, warm_start=False),\n",
       "       fit_params={}, iid=True, n_jobs=1,\n",
       "       param_grid={'C': array([  1.00000e-03,   1.00000e+00,   1.00000e+03]), 'penalty': ['l2', 'l1']},\n",
       "       pre_dispatch='2*n_jobs', refit=True, return_train_score=True,\n",
       "       scoring=None, verbose=0)"
      ]
     },
     "execution_count": 38,
     "metadata": {},
     "output_type": "execute_result"
    }
   ],
   "source": [
    "lr_gs.fit(X_train_scaled_rs, y_train_rs)"
   ]
  },
  {
   "cell_type": "code",
   "execution_count": 39,
   "metadata": {
    "collapsed": false
   },
   "outputs": [
    {
     "data": {
      "text/html": [
       "<div>\n",
       "<table border=\"1\" class=\"dataframe\">\n",
       "  <thead>\n",
       "    <tr style=\"text-align: right;\">\n",
       "      <th></th>\n",
       "      <th>0</th>\n",
       "      <th>1</th>\n",
       "      <th>2</th>\n",
       "      <th>3</th>\n",
       "      <th>4</th>\n",
       "      <th>5</th>\n",
       "    </tr>\n",
       "  </thead>\n",
       "  <tbody>\n",
       "    <tr>\n",
       "      <th>mean_fit_time</th>\n",
       "      <td>0.506596</td>\n",
       "      <td>0.475102</td>\n",
       "      <td>1.12845</td>\n",
       "      <td>3.24974</td>\n",
       "      <td>1.19101</td>\n",
       "      <td>6.12604</td>\n",
       "    </tr>\n",
       "    <tr>\n",
       "      <th>mean_score_time</th>\n",
       "      <td>0.0130754</td>\n",
       "      <td>0.00689665</td>\n",
       "      <td>0.00520619</td>\n",
       "      <td>0.00628034</td>\n",
       "      <td>0.00523623</td>\n",
       "      <td>0.00518401</td>\n",
       "    </tr>\n",
       "    <tr>\n",
       "      <th>mean_test_score</th>\n",
       "      <td>0.711875</td>\n",
       "      <td>0.696677</td>\n",
       "      <td>0.710765</td>\n",
       "      <td>0.710879</td>\n",
       "      <td>0.710765</td>\n",
       "      <td>0.710743</td>\n",
       "    </tr>\n",
       "    <tr>\n",
       "      <th>mean_train_score</th>\n",
       "      <td>0.712758</td>\n",
       "      <td>0.696813</td>\n",
       "      <td>0.71209</td>\n",
       "      <td>0.712102</td>\n",
       "      <td>0.712079</td>\n",
       "      <td>0.712079</td>\n",
       "    </tr>\n",
       "    <tr>\n",
       "      <th>param_C</th>\n",
       "      <td>0.001</td>\n",
       "      <td>0.001</td>\n",
       "      <td>1</td>\n",
       "      <td>1</td>\n",
       "      <td>1000</td>\n",
       "      <td>1000</td>\n",
       "    </tr>\n",
       "    <tr>\n",
       "      <th>param_penalty</th>\n",
       "      <td>l2</td>\n",
       "      <td>l1</td>\n",
       "      <td>l2</td>\n",
       "      <td>l1</td>\n",
       "      <td>l2</td>\n",
       "      <td>l1</td>\n",
       "    </tr>\n",
       "    <tr>\n",
       "      <th>params</th>\n",
       "      <td>{'C': 0.001, 'penalty': 'l2'}</td>\n",
       "      <td>{'C': 0.001, 'penalty': 'l1'}</td>\n",
       "      <td>{'C': 1.0, 'penalty': 'l2'}</td>\n",
       "      <td>{'C': 1.0, 'penalty': 'l1'}</td>\n",
       "      <td>{'C': 1000.0, 'penalty': 'l2'}</td>\n",
       "      <td>{'C': 1000.0, 'penalty': 'l1'}</td>\n",
       "    </tr>\n",
       "    <tr>\n",
       "      <th>rank_test_score</th>\n",
       "      <td>1</td>\n",
       "      <td>6</td>\n",
       "      <td>3</td>\n",
       "      <td>2</td>\n",
       "      <td>3</td>\n",
       "      <td>5</td>\n",
       "    </tr>\n",
       "    <tr>\n",
       "      <th>split0_test_score</th>\n",
       "      <td>0.715586</td>\n",
       "      <td>0.697038</td>\n",
       "      <td>0.715179</td>\n",
       "      <td>0.715111</td>\n",
       "      <td>0.714975</td>\n",
       "      <td>0.715043</td>\n",
       "    </tr>\n",
       "    <tr>\n",
       "      <th>split0_train_score</th>\n",
       "      <td>0.711073</td>\n",
       "      <td>0.69755</td>\n",
       "      <td>0.710121</td>\n",
       "      <td>0.710087</td>\n",
       "      <td>0.710087</td>\n",
       "      <td>0.710121</td>\n",
       "    </tr>\n",
       "    <tr>\n",
       "      <th>split1_test_score</th>\n",
       "      <td>0.711626</td>\n",
       "      <td>0.695318</td>\n",
       "      <td>0.711694</td>\n",
       "      <td>0.711762</td>\n",
       "      <td>0.71183</td>\n",
       "      <td>0.711694</td>\n",
       "    </tr>\n",
       "    <tr>\n",
       "      <th>split1_train_score</th>\n",
       "      <td>0.712272</td>\n",
       "      <td>0.69627</td>\n",
       "      <td>0.711932</td>\n",
       "      <td>0.711864</td>\n",
       "      <td>0.711932</td>\n",
       "      <td>0.711932</td>\n",
       "    </tr>\n",
       "    <tr>\n",
       "      <th>split2_test_score</th>\n",
       "      <td>0.708413</td>\n",
       "      <td>0.697676</td>\n",
       "      <td>0.705423</td>\n",
       "      <td>0.705762</td>\n",
       "      <td>0.705491</td>\n",
       "      <td>0.705491</td>\n",
       "    </tr>\n",
       "    <tr>\n",
       "      <th>split2_train_score</th>\n",
       "      <td>0.714931</td>\n",
       "      <td>0.69662</td>\n",
       "      <td>0.714218</td>\n",
       "      <td>0.714354</td>\n",
       "      <td>0.714218</td>\n",
       "      <td>0.714184</td>\n",
       "    </tr>\n",
       "    <tr>\n",
       "      <th>std_fit_time</th>\n",
       "      <td>0.0963564</td>\n",
       "      <td>0.0620632</td>\n",
       "      <td>0.0459614</td>\n",
       "      <td>0.533185</td>\n",
       "      <td>0.0772248</td>\n",
       "      <td>3.92264</td>\n",
       "    </tr>\n",
       "    <tr>\n",
       "      <th>std_score_time</th>\n",
       "      <td>0.0117826</td>\n",
       "      <td>0.00290258</td>\n",
       "      <td>0.000519735</td>\n",
       "      <td>0.00168445</td>\n",
       "      <td>0.00080833</td>\n",
       "      <td>0.000348105</td>\n",
       "    </tr>\n",
       "    <tr>\n",
       "      <th>std_test_score</th>\n",
       "      <td>0.00293396</td>\n",
       "      <td>0.000995651</td>\n",
       "      <td>0.00403665</td>\n",
       "      <td>0.00386721</td>\n",
       "      <td>0.00394441</td>\n",
       "      <td>0.00395725</td>\n",
       "    </tr>\n",
       "    <tr>\n",
       "      <th>std_train_score</th>\n",
       "      <td>0.00161245</td>\n",
       "      <td>0.000540478</td>\n",
       "      <td>0.00167613</td>\n",
       "      <td>0.00174982</td>\n",
       "      <td>0.00168946</td>\n",
       "      <td>0.00166177</td>\n",
       "    </tr>\n",
       "  </tbody>\n",
       "</table>\n",
       "</div>"
      ],
      "text/plain": [
       "                                                0  \\\n",
       "mean_fit_time                            0.506596   \n",
       "mean_score_time                         0.0130754   \n",
       "mean_test_score                          0.711875   \n",
       "mean_train_score                         0.712758   \n",
       "param_C                                     0.001   \n",
       "param_penalty                                  l2   \n",
       "params              {'C': 0.001, 'penalty': 'l2'}   \n",
       "rank_test_score                                 1   \n",
       "split0_test_score                        0.715586   \n",
       "split0_train_score                       0.711073   \n",
       "split1_test_score                        0.711626   \n",
       "split1_train_score                       0.712272   \n",
       "split2_test_score                        0.708413   \n",
       "split2_train_score                       0.714931   \n",
       "std_fit_time                            0.0963564   \n",
       "std_score_time                          0.0117826   \n",
       "std_test_score                         0.00293396   \n",
       "std_train_score                        0.00161245   \n",
       "\n",
       "                                                1  \\\n",
       "mean_fit_time                            0.475102   \n",
       "mean_score_time                        0.00689665   \n",
       "mean_test_score                          0.696677   \n",
       "mean_train_score                         0.696813   \n",
       "param_C                                     0.001   \n",
       "param_penalty                                  l1   \n",
       "params              {'C': 0.001, 'penalty': 'l1'}   \n",
       "rank_test_score                                 6   \n",
       "split0_test_score                        0.697038   \n",
       "split0_train_score                        0.69755   \n",
       "split1_test_score                        0.695318   \n",
       "split1_train_score                        0.69627   \n",
       "split2_test_score                        0.697676   \n",
       "split2_train_score                        0.69662   \n",
       "std_fit_time                            0.0620632   \n",
       "std_score_time                         0.00290258   \n",
       "std_test_score                        0.000995651   \n",
       "std_train_score                       0.000540478   \n",
       "\n",
       "                                              2                            3  \\\n",
       "mean_fit_time                           1.12845                      3.24974   \n",
       "mean_score_time                      0.00520619                   0.00628034   \n",
       "mean_test_score                        0.710765                     0.710879   \n",
       "mean_train_score                        0.71209                     0.712102   \n",
       "param_C                                       1                            1   \n",
       "param_penalty                                l2                           l1   \n",
       "params              {'C': 1.0, 'penalty': 'l2'}  {'C': 1.0, 'penalty': 'l1'}   \n",
       "rank_test_score                               3                            2   \n",
       "split0_test_score                      0.715179                     0.715111   \n",
       "split0_train_score                     0.710121                     0.710087   \n",
       "split1_test_score                      0.711694                     0.711762   \n",
       "split1_train_score                     0.711932                     0.711864   \n",
       "split2_test_score                      0.705423                     0.705762   \n",
       "split2_train_score                     0.714218                     0.714354   \n",
       "std_fit_time                          0.0459614                     0.533185   \n",
       "std_score_time                      0.000519735                   0.00168445   \n",
       "std_test_score                       0.00403665                   0.00386721   \n",
       "std_train_score                      0.00167613                   0.00174982   \n",
       "\n",
       "                                                 4  \\\n",
       "mean_fit_time                              1.19101   \n",
       "mean_score_time                         0.00523623   \n",
       "mean_test_score                           0.710765   \n",
       "mean_train_score                          0.712079   \n",
       "param_C                                       1000   \n",
       "param_penalty                                   l2   \n",
       "params              {'C': 1000.0, 'penalty': 'l2'}   \n",
       "rank_test_score                                  3   \n",
       "split0_test_score                         0.714975   \n",
       "split0_train_score                        0.710087   \n",
       "split1_test_score                          0.71183   \n",
       "split1_train_score                        0.711932   \n",
       "split2_test_score                         0.705491   \n",
       "split2_train_score                        0.714218   \n",
       "std_fit_time                             0.0772248   \n",
       "std_score_time                          0.00080833   \n",
       "std_test_score                          0.00394441   \n",
       "std_train_score                         0.00168946   \n",
       "\n",
       "                                                 5  \n",
       "mean_fit_time                              6.12604  \n",
       "mean_score_time                         0.00518401  \n",
       "mean_test_score                           0.710743  \n",
       "mean_train_score                          0.712079  \n",
       "param_C                                       1000  \n",
       "param_penalty                                   l1  \n",
       "params              {'C': 1000.0, 'penalty': 'l1'}  \n",
       "rank_test_score                                  5  \n",
       "split0_test_score                         0.715043  \n",
       "split0_train_score                        0.710121  \n",
       "split1_test_score                         0.711694  \n",
       "split1_train_score                        0.711932  \n",
       "split2_test_score                         0.705491  \n",
       "split2_train_score                        0.714184  \n",
       "std_fit_time                               3.92264  \n",
       "std_score_time                         0.000348105  \n",
       "std_test_score                          0.00395725  \n",
       "std_train_score                         0.00166177  "
      ]
     },
     "execution_count": 39,
     "metadata": {},
     "output_type": "execute_result"
    }
   ],
   "source": [
    "pd.DataFrame(lr_gs.cv_results_).T"
   ]
  },
  {
   "cell_type": "markdown",
   "metadata": {},
   "source": [
    "Tuning the hyperparameters for regularization didn't really improve the predictive accuracy of our logistic regression model. The train and test scores are still around 71%"
   ]
  },
  {
   "cell_type": "markdown",
   "metadata": {},
   "source": [
    "Random Forest:"
   ]
  },
  {
   "cell_type": "code",
   "execution_count": 40,
   "metadata": {
    "collapsed": true
   },
   "outputs": [],
   "source": [
    "# try different limits for the max depth of the RandomForest to prevent overfitting\n",
    "params = {\n",
    "    'max_depth':[5, 10, 15, 20, 30, 40]\n",
    "}"
   ]
  },
  {
   "cell_type": "code",
   "execution_count": 41,
   "metadata": {
    "collapsed": true
   },
   "outputs": [],
   "source": [
    "gs_rf = GridSearchCV(rf, param_grid=params)"
   ]
  },
  {
   "cell_type": "code",
   "execution_count": 42,
   "metadata": {
    "collapsed": false,
    "scrolled": true
   },
   "outputs": [
    {
     "data": {
      "text/plain": [
       "GridSearchCV(cv=None, error_score='raise',\n",
       "       estimator=RandomForestClassifier(bootstrap=True, class_weight='balanced',\n",
       "            criterion='gini', max_depth=None, max_features='auto',\n",
       "            max_leaf_nodes=None, min_impurity_split=1e-07,\n",
       "            min_samples_leaf=1, min_samples_split=2,\n",
       "            min_weight_fraction_leaf=0.0, n_estimators=10, n_jobs=1,\n",
       "            oob_score=False, random_state=None, verbose=0,\n",
       "            warm_start=False),\n",
       "       fit_params={}, iid=True, n_jobs=1,\n",
       "       param_grid={'max_depth': [5, 10, 15, 20, 30, 40]},\n",
       "       pre_dispatch='2*n_jobs', refit=True, return_train_score=True,\n",
       "       scoring=None, verbose=0)"
      ]
     },
     "execution_count": 42,
     "metadata": {},
     "output_type": "execute_result"
    }
   ],
   "source": [
    "gs_rf.fit(X_train_scaled_rs, y_train_rs)"
   ]
  },
  {
   "cell_type": "code",
   "execution_count": 43,
   "metadata": {
    "collapsed": false
   },
   "outputs": [
    {
     "data": {
      "text/html": [
       "<div>\n",
       "<table border=\"1\" class=\"dataframe\">\n",
       "  <thead>\n",
       "    <tr style=\"text-align: right;\">\n",
       "      <th></th>\n",
       "      <th>0</th>\n",
       "      <th>1</th>\n",
       "      <th>2</th>\n",
       "      <th>3</th>\n",
       "      <th>4</th>\n",
       "      <th>5</th>\n",
       "    </tr>\n",
       "  </thead>\n",
       "  <tbody>\n",
       "    <tr>\n",
       "      <th>mean_fit_time</th>\n",
       "      <td>0.322582</td>\n",
       "      <td>0.446357</td>\n",
       "      <td>0.582398</td>\n",
       "      <td>0.658584</td>\n",
       "      <td>0.752987</td>\n",
       "      <td>0.749984</td>\n",
       "    </tr>\n",
       "    <tr>\n",
       "      <th>mean_score_time</th>\n",
       "      <td>0.0250794</td>\n",
       "      <td>0.0248992</td>\n",
       "      <td>0.0351721</td>\n",
       "      <td>0.0440656</td>\n",
       "      <td>0.0508648</td>\n",
       "      <td>0.0549671</td>\n",
       "    </tr>\n",
       "    <tr>\n",
       "      <th>mean_test_score</th>\n",
       "      <td>0.703608</td>\n",
       "      <td>0.715431</td>\n",
       "      <td>0.739055</td>\n",
       "      <td>0.756042</td>\n",
       "      <td>0.77321</td>\n",
       "      <td>0.778918</td>\n",
       "    </tr>\n",
       "    <tr>\n",
       "      <th>mean_train_score</th>\n",
       "      <td>0.706518</td>\n",
       "      <td>0.736699</td>\n",
       "      <td>0.807116</td>\n",
       "      <td>0.884306</td>\n",
       "      <td>0.959004</td>\n",
       "      <td>0.983885</td>\n",
       "    </tr>\n",
       "    <tr>\n",
       "      <th>param_max_depth</th>\n",
       "      <td>5</td>\n",
       "      <td>10</td>\n",
       "      <td>15</td>\n",
       "      <td>20</td>\n",
       "      <td>30</td>\n",
       "      <td>40</td>\n",
       "    </tr>\n",
       "    <tr>\n",
       "      <th>params</th>\n",
       "      <td>{'max_depth': 5}</td>\n",
       "      <td>{'max_depth': 10}</td>\n",
       "      <td>{'max_depth': 15}</td>\n",
       "      <td>{'max_depth': 20}</td>\n",
       "      <td>{'max_depth': 30}</td>\n",
       "      <td>{'max_depth': 40}</td>\n",
       "    </tr>\n",
       "    <tr>\n",
       "      <th>rank_test_score</th>\n",
       "      <td>6</td>\n",
       "      <td>5</td>\n",
       "      <td>4</td>\n",
       "      <td>3</td>\n",
       "      <td>2</td>\n",
       "      <td>1</td>\n",
       "    </tr>\n",
       "    <tr>\n",
       "      <th>split0_test_score</th>\n",
       "      <td>0.705123</td>\n",
       "      <td>0.717896</td>\n",
       "      <td>0.7376</td>\n",
       "      <td>0.759682</td>\n",
       "      <td>0.774086</td>\n",
       "      <td>0.781356</td>\n",
       "    </tr>\n",
       "    <tr>\n",
       "      <th>split0_train_score</th>\n",
       "      <td>0.70105</td>\n",
       "      <td>0.737641</td>\n",
       "      <td>0.800428</td>\n",
       "      <td>0.884517</td>\n",
       "      <td>0.956511</td>\n",
       "      <td>0.981891</td>\n",
       "    </tr>\n",
       "    <tr>\n",
       "      <th>split1_test_score</th>\n",
       "      <td>0.70619</td>\n",
       "      <td>0.713393</td>\n",
       "      <td>0.738262</td>\n",
       "      <td>0.754366</td>\n",
       "      <td>0.772372</td>\n",
       "      <td>0.778827</td>\n",
       "    </tr>\n",
       "    <tr>\n",
       "      <th>split1_train_score</th>\n",
       "      <td>0.710641</td>\n",
       "      <td>0.735068</td>\n",
       "      <td>0.802134</td>\n",
       "      <td>0.881294</td>\n",
       "      <td>0.960216</td>\n",
       "      <td>0.984406</td>\n",
       "    </tr>\n",
       "    <tr>\n",
       "      <th>split2_test_score</th>\n",
       "      <td>0.699511</td>\n",
       "      <td>0.715004</td>\n",
       "      <td>0.741302</td>\n",
       "      <td>0.754077</td>\n",
       "      <td>0.773172</td>\n",
       "      <td>0.77657</td>\n",
       "    </tr>\n",
       "    <tr>\n",
       "      <th>split2_train_score</th>\n",
       "      <td>0.707865</td>\n",
       "      <td>0.737387</td>\n",
       "      <td>0.818787</td>\n",
       "      <td>0.887107</td>\n",
       "      <td>0.960285</td>\n",
       "      <td>0.985358</td>\n",
       "    </tr>\n",
       "    <tr>\n",
       "      <th>std_fit_time</th>\n",
       "      <td>0.0278839</td>\n",
       "      <td>0.0208442</td>\n",
       "      <td>0.00681855</td>\n",
       "      <td>0.0149028</td>\n",
       "      <td>0.0101479</td>\n",
       "      <td>0.0076882</td>\n",
       "    </tr>\n",
       "    <tr>\n",
       "      <th>std_score_time</th>\n",
       "      <td>0.00204644</td>\n",
       "      <td>0.000141454</td>\n",
       "      <td>0.002749</td>\n",
       "      <td>0.00130138</td>\n",
       "      <td>0.00373088</td>\n",
       "      <td>0.00481968</td>\n",
       "    </tr>\n",
       "    <tr>\n",
       "      <th>std_test_score</th>\n",
       "      <td>0.00292968</td>\n",
       "      <td>0.00186332</td>\n",
       "      <td>0.00161185</td>\n",
       "      <td>0.00257687</td>\n",
       "      <td>0.000700294</td>\n",
       "      <td>0.00195511</td>\n",
       "    </tr>\n",
       "    <tr>\n",
       "      <th>std_train_score</th>\n",
       "      <td>0.00402955</td>\n",
       "      <td>0.00115778</td>\n",
       "      <td>0.00828188</td>\n",
       "      <td>0.00237803</td>\n",
       "      <td>0.00176296</td>\n",
       "      <td>0.00146235</td>\n",
       "    </tr>\n",
       "  </tbody>\n",
       "</table>\n",
       "</div>"
      ],
      "text/plain": [
       "                                   0                  1                  2  \\\n",
       "mean_fit_time               0.322582           0.446357           0.582398   \n",
       "mean_score_time            0.0250794          0.0248992          0.0351721   \n",
       "mean_test_score             0.703608           0.715431           0.739055   \n",
       "mean_train_score            0.706518           0.736699           0.807116   \n",
       "param_max_depth                    5                 10                 15   \n",
       "params              {'max_depth': 5}  {'max_depth': 10}  {'max_depth': 15}   \n",
       "rank_test_score                    6                  5                  4   \n",
       "split0_test_score           0.705123           0.717896             0.7376   \n",
       "split0_train_score           0.70105           0.737641           0.800428   \n",
       "split1_test_score            0.70619           0.713393           0.738262   \n",
       "split1_train_score          0.710641           0.735068           0.802134   \n",
       "split2_test_score           0.699511           0.715004           0.741302   \n",
       "split2_train_score          0.707865           0.737387           0.818787   \n",
       "std_fit_time               0.0278839          0.0208442         0.00681855   \n",
       "std_score_time            0.00204644        0.000141454           0.002749   \n",
       "std_test_score            0.00292968         0.00186332         0.00161185   \n",
       "std_train_score           0.00402955         0.00115778         0.00828188   \n",
       "\n",
       "                                    3                  4                  5  \n",
       "mean_fit_time                0.658584           0.752987           0.749984  \n",
       "mean_score_time             0.0440656          0.0508648          0.0549671  \n",
       "mean_test_score              0.756042            0.77321           0.778918  \n",
       "mean_train_score             0.884306           0.959004           0.983885  \n",
       "param_max_depth                    20                 30                 40  \n",
       "params              {'max_depth': 20}  {'max_depth': 30}  {'max_depth': 40}  \n",
       "rank_test_score                     3                  2                  1  \n",
       "split0_test_score            0.759682           0.774086           0.781356  \n",
       "split0_train_score           0.884517           0.956511           0.981891  \n",
       "split1_test_score            0.754366           0.772372           0.778827  \n",
       "split1_train_score           0.881294           0.960216           0.984406  \n",
       "split2_test_score            0.754077           0.773172            0.77657  \n",
       "split2_train_score           0.887107           0.960285           0.985358  \n",
       "std_fit_time                0.0149028          0.0101479          0.0076882  \n",
       "std_score_time             0.00130138         0.00373088         0.00481968  \n",
       "std_test_score             0.00257687        0.000700294         0.00195511  \n",
       "std_train_score            0.00237803         0.00176296         0.00146235  "
      ]
     },
     "execution_count": 43,
     "metadata": {},
     "output_type": "execute_result"
    }
   ],
   "source": [
    "pd.DataFrame(gs_rf.cv_results_).T"
   ]
  },
  {
   "cell_type": "markdown",
   "metadata": {},
   "source": [
    "Limiting the max depth to 15 results in the best test score (74%) without overfitting too much to the training data. This is our winning model so far."
   ]
  },
  {
   "cell_type": "markdown",
   "metadata": {},
   "source": [
    "## Feature importances"
   ]
  },
  {
   "cell_type": "markdown",
   "metadata": {},
   "source": [
    "Use SelectKBest with f-scores and p-values to see top features"
   ]
  },
  {
   "cell_type": "code",
   "execution_count": 44,
   "metadata": {
    "collapsed": false
   },
   "outputs": [],
   "source": [
    "skb_fc = SelectKBest(score_func=f_classif, k=5)"
   ]
  },
  {
   "cell_type": "code",
   "execution_count": 45,
   "metadata": {
    "collapsed": false
   },
   "outputs": [
    {
     "name": "stderr",
     "output_type": "stream",
     "text": [
      "/Users/emmafreeman/anaconda3/lib/python3.6/site-packages/sklearn/feature_selection/univariate_selection.py:113: UserWarning: Features [51] are constant.\n",
      "  UserWarning)\n",
      "/Users/emmafreeman/anaconda3/lib/python3.6/site-packages/sklearn/feature_selection/univariate_selection.py:114: RuntimeWarning: invalid value encountered in true_divide\n",
      "  f = msb / msw\n"
     ]
    },
    {
     "data": {
      "text/plain": [
       "SelectKBest(k=5, score_func=<function f_classif at 0x10fab8048>)"
      ]
     },
     "execution_count": 45,
     "metadata": {},
     "output_type": "execute_result"
    }
   ],
   "source": [
    "skb_fc.fit(X_train_scaled_rs, y_train_rs)"
   ]
  },
  {
   "cell_type": "code",
   "execution_count": 46,
   "metadata": {
    "collapsed": false
   },
   "outputs": [
    {
     "data": {
      "text/html": [
       "<div>\n",
       "<table border=\"1\" class=\"dataframe\">\n",
       "  <thead>\n",
       "    <tr style=\"text-align: right;\">\n",
       "      <th></th>\n",
       "      <th>feature</th>\n",
       "      <th>f-score</th>\n",
       "      <th>p-value</th>\n",
       "    </tr>\n",
       "  </thead>\n",
       "  <tbody>\n",
       "    <tr>\n",
       "      <th>0</th>\n",
       "      <td>sessions</td>\n",
       "      <td>7599.489346</td>\n",
       "      <td>0.000000e+00</td>\n",
       "    </tr>\n",
       "    <tr>\n",
       "      <th>1</th>\n",
       "      <td>duration</td>\n",
       "      <td>8053.460864</td>\n",
       "      <td>0.000000e+00</td>\n",
       "    </tr>\n",
       "    <tr>\n",
       "      <th>2</th>\n",
       "      <td>mega_bytes</td>\n",
       "      <td>6651.066495</td>\n",
       "      <td>0.000000e+00</td>\n",
       "    </tr>\n",
       "    <tr>\n",
       "      <th>3</th>\n",
       "      <td>base_ARKNOX</td>\n",
       "      <td>1167.747788</td>\n",
       "      <td>1.247068e-252</td>\n",
       "    </tr>\n",
       "    <tr>\n",
       "      <th>4</th>\n",
       "      <td>base_ARHOUS</td>\n",
       "      <td>572.051306</td>\n",
       "      <td>1.269946e-125</td>\n",
       "    </tr>\n",
       "    <tr>\n",
       "      <th>5</th>\n",
       "      <td>base_ARLEEE</td>\n",
       "      <td>448.676186</td>\n",
       "      <td>4.366694e-99</td>\n",
       "    </tr>\n",
       "    <tr>\n",
       "      <th>6</th>\n",
       "      <td>case_count</td>\n",
       "      <td>430.424838</td>\n",
       "      <td>3.742845e-95</td>\n",
       "    </tr>\n",
       "    <tr>\n",
       "      <th>7</th>\n",
       "      <td>base_FLCHLS</td>\n",
       "      <td>397.642632</td>\n",
       "      <td>4.391264e-88</td>\n",
       "    </tr>\n",
       "    <tr>\n",
       "      <th>8</th>\n",
       "      <td>base_AFSHEP</td>\n",
       "      <td>286.157610</td>\n",
       "      <td>5.441402e-64</td>\n",
       "    </tr>\n",
       "    <tr>\n",
       "      <th>9</th>\n",
       "      <td>holiday_flag</td>\n",
       "      <td>215.905304</td>\n",
       "      <td>9.223626e-49</td>\n",
       "    </tr>\n",
       "    <tr>\n",
       "      <th>10</th>\n",
       "      <td>base_AFACDY</td>\n",
       "      <td>209.481186</td>\n",
       "      <td>2.289076e-47</td>\n",
       "    </tr>\n",
       "    <tr>\n",
       "      <th>11</th>\n",
       "      <td>base_ARBENN</td>\n",
       "      <td>189.894893</td>\n",
       "      <td>4.117472e-43</td>\n",
       "    </tr>\n",
       "    <tr>\n",
       "      <th>12</th>\n",
       "      <td>base_ARBLSS</td>\n",
       "      <td>168.980151</td>\n",
       "      <td>1.454743e-38</td>\n",
       "    </tr>\n",
       "    <tr>\n",
       "      <th>13</th>\n",
       "      <td>base_AFKEES</td>\n",
       "      <td>155.290256</td>\n",
       "      <td>1.388964e-35</td>\n",
       "    </tr>\n",
       "    <tr>\n",
       "      <th>14</th>\n",
       "      <td>base_AREUST</td>\n",
       "      <td>143.283498</td>\n",
       "      <td>5.732276e-33</td>\n",
       "    </tr>\n",
       "    <tr>\n",
       "      <th>15</th>\n",
       "      <td>base_MC29PM</td>\n",
       "      <td>130.693276</td>\n",
       "      <td>3.187353e-30</td>\n",
       "    </tr>\n",
       "    <tr>\n",
       "      <th>16</th>\n",
       "      <td>base_ARLEOW</td>\n",
       "      <td>109.982939</td>\n",
       "      <td>1.059642e-25</td>\n",
       "    </tr>\n",
       "    <tr>\n",
       "      <th>17</th>\n",
       "      <td>train_flag</td>\n",
       "      <td>99.970471</td>\n",
       "      <td>1.638632e-23</td>\n",
       "    </tr>\n",
       "    <tr>\n",
       "      <th>18</th>\n",
       "      <td>base_ARRILE</td>\n",
       "      <td>83.003762</td>\n",
       "      <td>8.523105e-20</td>\n",
       "    </tr>\n",
       "    <tr>\n",
       "      <th>19</th>\n",
       "      <td>base_ARGORD</td>\n",
       "      <td>70.493698</td>\n",
       "      <td>4.752792e-17</td>\n",
       "    </tr>\n",
       "    <tr>\n",
       "      <th>20</th>\n",
       "      <td>base_MCQTCO</td>\n",
       "      <td>69.863638</td>\n",
       "      <td>6.537956e-17</td>\n",
       "    </tr>\n",
       "    <tr>\n",
       "      <th>21</th>\n",
       "      <td>comp_flag</td>\n",
       "      <td>62.475602</td>\n",
       "      <td>2.759828e-15</td>\n",
       "    </tr>\n",
       "    <tr>\n",
       "      <th>22</th>\n",
       "      <td>base_ARATTR</td>\n",
       "      <td>55.990329</td>\n",
       "      <td>7.417827e-14</td>\n",
       "    </tr>\n",
       "    <tr>\n",
       "      <th>23</th>\n",
       "      <td>base_ARYAKI</td>\n",
       "      <td>42.253052</td>\n",
       "      <td>8.104748e-11</td>\n",
       "    </tr>\n",
       "    <tr>\n",
       "      <th>24</th>\n",
       "      <td>base_ARCARS</td>\n",
       "      <td>42.001845</td>\n",
       "      <td>9.214563e-11</td>\n",
       "    </tr>\n",
       "    <tr>\n",
       "      <th>25</th>\n",
       "      <td>base_ARPRES</td>\n",
       "      <td>34.978361</td>\n",
       "      <td>3.358377e-09</td>\n",
       "    </tr>\n",
       "    <tr>\n",
       "      <th>26</th>\n",
       "      <td>base_MCCLJN</td>\n",
       "      <td>32.305901</td>\n",
       "      <td>1.325409e-08</td>\n",
       "    </tr>\n",
       "    <tr>\n",
       "      <th>27</th>\n",
       "      <td>base_MCBGPT</td>\n",
       "      <td>29.621815</td>\n",
       "      <td>5.278953e-08</td>\n",
       "    </tr>\n",
       "    <tr>\n",
       "      <th>28</th>\n",
       "      <td>base_ARPOLK</td>\n",
       "      <td>27.666559</td>\n",
       "      <td>1.448035e-07</td>\n",
       "    </tr>\n",
       "    <tr>\n",
       "      <th>29</th>\n",
       "      <td>base_ARCAMP</td>\n",
       "      <td>22.338367</td>\n",
       "      <td>2.292972e-06</td>\n",
       "    </tr>\n",
       "    <tr>\n",
       "      <th>...</th>\n",
       "      <td>...</td>\n",
       "      <td>...</td>\n",
       "      <td>...</td>\n",
       "    </tr>\n",
       "    <tr>\n",
       "      <th>36</th>\n",
       "      <td>base_ARDEVN</td>\n",
       "      <td>17.039600</td>\n",
       "      <td>3.667549e-05</td>\n",
       "    </tr>\n",
       "    <tr>\n",
       "      <th>37</th>\n",
       "      <td>base_ARHOOD</td>\n",
       "      <td>14.934734</td>\n",
       "      <td>1.114540e-04</td>\n",
       "    </tr>\n",
       "    <tr>\n",
       "      <th>38</th>\n",
       "      <td>base_MCCHPT</td>\n",
       "      <td>13.125557</td>\n",
       "      <td>2.916213e-04</td>\n",
       "    </tr>\n",
       "    <tr>\n",
       "      <th>39</th>\n",
       "      <td>base_MCYUMA</td>\n",
       "      <td>12.335144</td>\n",
       "      <td>4.449536e-04</td>\n",
       "    </tr>\n",
       "    <tr>\n",
       "      <th>40</th>\n",
       "      <td>base_ARLEWS</td>\n",
       "      <td>11.695328</td>\n",
       "      <td>6.271385e-04</td>\n",
       "    </tr>\n",
       "    <tr>\n",
       "      <th>41</th>\n",
       "      <td>base_ARMUSC</td>\n",
       "      <td>9.033091</td>\n",
       "      <td>2.652847e-03</td>\n",
       "    </tr>\n",
       "    <tr>\n",
       "      <th>42</th>\n",
       "      <td>base_ARHNTR</td>\n",
       "      <td>8.126003</td>\n",
       "      <td>4.365506e-03</td>\n",
       "    </tr>\n",
       "    <tr>\n",
       "      <th>43</th>\n",
       "      <td>base_MCCPEN</td>\n",
       "      <td>8.049002</td>\n",
       "      <td>4.554946e-03</td>\n",
       "    </tr>\n",
       "    <tr>\n",
       "      <th>44</th>\n",
       "      <td>base_ARIRWN</td>\n",
       "      <td>7.680920</td>\n",
       "      <td>5.583107e-03</td>\n",
       "    </tr>\n",
       "    <tr>\n",
       "      <th>45</th>\n",
       "      <td>base_ARHUAC</td>\n",
       "      <td>6.337186</td>\n",
       "      <td>1.182674e-02</td>\n",
       "    </tr>\n",
       "    <tr>\n",
       "      <th>46</th>\n",
       "      <td>base_ARSILL</td>\n",
       "      <td>6.270266</td>\n",
       "      <td>1.228165e-02</td>\n",
       "    </tr>\n",
       "    <tr>\n",
       "      <th>47</th>\n",
       "      <td>base_AFCANN</td>\n",
       "      <td>5.188515</td>\n",
       "      <td>2.274140e-02</td>\n",
       "    </tr>\n",
       "    <tr>\n",
       "      <th>48</th>\n",
       "      <td>base_MCCMUJ</td>\n",
       "      <td>4.013796</td>\n",
       "      <td>4.513554e-02</td>\n",
       "    </tr>\n",
       "    <tr>\n",
       "      <th>49</th>\n",
       "      <td>base_ARLIGG</td>\n",
       "      <td>3.942638</td>\n",
       "      <td>4.708307e-02</td>\n",
       "    </tr>\n",
       "    <tr>\n",
       "      <th>50</th>\n",
       "      <td>base_AFMTHM</td>\n",
       "      <td>3.633242</td>\n",
       "      <td>5.664289e-02</td>\n",
       "    </tr>\n",
       "    <tr>\n",
       "      <th>51</th>\n",
       "      <td>base_TOKYO</td>\n",
       "      <td>3.614721</td>\n",
       "      <td>5.727685e-02</td>\n",
       "    </tr>\n",
       "    <tr>\n",
       "      <th>52</th>\n",
       "      <td>base_AREALN</td>\n",
       "      <td>3.588690</td>\n",
       "      <td>5.818062e-02</td>\n",
       "    </tr>\n",
       "    <tr>\n",
       "      <th>53</th>\n",
       "      <td>base_MCPRSI</td>\n",
       "      <td>3.175131</td>\n",
       "      <td>7.477407e-02</td>\n",
       "    </tr>\n",
       "    <tr>\n",
       "      <th>54</th>\n",
       "      <td>base_MCMIRA</td>\n",
       "      <td>2.829949</td>\n",
       "      <td>9.252838e-02</td>\n",
       "    </tr>\n",
       "    <tr>\n",
       "      <th>55</th>\n",
       "      <td>base_MBKSDC</td>\n",
       "      <td>2.049086</td>\n",
       "      <td>1.523047e-01</td>\n",
       "    </tr>\n",
       "    <tr>\n",
       "      <th>56</th>\n",
       "      <td>base_MCBUFT</td>\n",
       "      <td>1.997142</td>\n",
       "      <td>1.576031e-01</td>\n",
       "    </tr>\n",
       "    <tr>\n",
       "      <th>57</th>\n",
       "      <td>base_MC29P</td>\n",
       "      <td>1.482585</td>\n",
       "      <td>2.233771e-01</td>\n",
       "    </tr>\n",
       "    <tr>\n",
       "      <th>58</th>\n",
       "      <td>base_ARBRAG</td>\n",
       "      <td>1.076504</td>\n",
       "      <td>2.994867e-01</td>\n",
       "    </tr>\n",
       "    <tr>\n",
       "      <th>59</th>\n",
       "      <td>base_ARBARK</td>\n",
       "      <td>0.838194</td>\n",
       "      <td>3.599187e-01</td>\n",
       "    </tr>\n",
       "    <tr>\n",
       "      <th>60</th>\n",
       "      <td>base_MCSDRC</td>\n",
       "      <td>0.660141</td>\n",
       "      <td>4.165146e-01</td>\n",
       "    </tr>\n",
       "    <tr>\n",
       "      <th>61</th>\n",
       "      <td>base_MCHAWI</td>\n",
       "      <td>0.526238</td>\n",
       "      <td>4.681968e-01</td>\n",
       "    </tr>\n",
       "    <tr>\n",
       "      <th>62</th>\n",
       "      <td>base_MCALBY</td>\n",
       "      <td>0.506712</td>\n",
       "      <td>4.765696e-01</td>\n",
       "    </tr>\n",
       "    <tr>\n",
       "      <th>63</th>\n",
       "      <td>base_ARSTEW</td>\n",
       "      <td>0.008115</td>\n",
       "      <td>9.282208e-01</td>\n",
       "    </tr>\n",
       "    <tr>\n",
       "      <th>64</th>\n",
       "      <td>base_MCBARS</td>\n",
       "      <td>NaN</td>\n",
       "      <td>NaN</td>\n",
       "    </tr>\n",
       "    <tr>\n",
       "      <th>65</th>\n",
       "      <td>base_MCSMTH</td>\n",
       "      <td>0.406720</td>\n",
       "      <td>5.236425e-01</td>\n",
       "    </tr>\n",
       "  </tbody>\n",
       "</table>\n",
       "<p>66 rows × 3 columns</p>\n",
       "</div>"
      ],
      "text/plain": [
       "         feature      f-score        p-value\n",
       "0       sessions  7599.489346   0.000000e+00\n",
       "1       duration  8053.460864   0.000000e+00\n",
       "2     mega_bytes  6651.066495   0.000000e+00\n",
       "3    base_ARKNOX  1167.747788  1.247068e-252\n",
       "4    base_ARHOUS   572.051306  1.269946e-125\n",
       "5    base_ARLEEE   448.676186   4.366694e-99\n",
       "6     case_count   430.424838   3.742845e-95\n",
       "7    base_FLCHLS   397.642632   4.391264e-88\n",
       "8    base_AFSHEP   286.157610   5.441402e-64\n",
       "9   holiday_flag   215.905304   9.223626e-49\n",
       "10   base_AFACDY   209.481186   2.289076e-47\n",
       "11   base_ARBENN   189.894893   4.117472e-43\n",
       "12   base_ARBLSS   168.980151   1.454743e-38\n",
       "13   base_AFKEES   155.290256   1.388964e-35\n",
       "14   base_AREUST   143.283498   5.732276e-33\n",
       "15   base_MC29PM   130.693276   3.187353e-30\n",
       "16   base_ARLEOW   109.982939   1.059642e-25\n",
       "17    train_flag    99.970471   1.638632e-23\n",
       "18   base_ARRILE    83.003762   8.523105e-20\n",
       "19   base_ARGORD    70.493698   4.752792e-17\n",
       "20   base_MCQTCO    69.863638   6.537956e-17\n",
       "21     comp_flag    62.475602   2.759828e-15\n",
       "22   base_ARATTR    55.990329   7.417827e-14\n",
       "23   base_ARYAKI    42.253052   8.104748e-11\n",
       "24   base_ARCARS    42.001845   9.214563e-11\n",
       "25   base_ARPRES    34.978361   3.358377e-09\n",
       "26   base_MCCLJN    32.305901   1.325409e-08\n",
       "27   base_MCBGPT    29.621815   5.278953e-08\n",
       "28   base_ARPOLK    27.666559   1.448035e-07\n",
       "29   base_ARCAMP    22.338367   2.292972e-06\n",
       "..           ...          ...            ...\n",
       "36   base_ARDEVN    17.039600   3.667549e-05\n",
       "37   base_ARHOOD    14.934734   1.114540e-04\n",
       "38   base_MCCHPT    13.125557   2.916213e-04\n",
       "39   base_MCYUMA    12.335144   4.449536e-04\n",
       "40   base_ARLEWS    11.695328   6.271385e-04\n",
       "41   base_ARMUSC     9.033091   2.652847e-03\n",
       "42   base_ARHNTR     8.126003   4.365506e-03\n",
       "43   base_MCCPEN     8.049002   4.554946e-03\n",
       "44   base_ARIRWN     7.680920   5.583107e-03\n",
       "45   base_ARHUAC     6.337186   1.182674e-02\n",
       "46   base_ARSILL     6.270266   1.228165e-02\n",
       "47   base_AFCANN     5.188515   2.274140e-02\n",
       "48   base_MCCMUJ     4.013796   4.513554e-02\n",
       "49   base_ARLIGG     3.942638   4.708307e-02\n",
       "50   base_AFMTHM     3.633242   5.664289e-02\n",
       "51    base_TOKYO     3.614721   5.727685e-02\n",
       "52   base_AREALN     3.588690   5.818062e-02\n",
       "53   base_MCPRSI     3.175131   7.477407e-02\n",
       "54   base_MCMIRA     2.829949   9.252838e-02\n",
       "55   base_MBKSDC     2.049086   1.523047e-01\n",
       "56   base_MCBUFT     1.997142   1.576031e-01\n",
       "57    base_MC29P     1.482585   2.233771e-01\n",
       "58   base_ARBRAG     1.076504   2.994867e-01\n",
       "59   base_ARBARK     0.838194   3.599187e-01\n",
       "60   base_MCSDRC     0.660141   4.165146e-01\n",
       "61   base_MCHAWI     0.526238   4.681968e-01\n",
       "62   base_MCALBY     0.506712   4.765696e-01\n",
       "63   base_ARSTEW     0.008115   9.282208e-01\n",
       "64   base_MCBARS          NaN            NaN\n",
       "65   base_MCSMTH     0.406720   5.236425e-01\n",
       "\n",
       "[66 rows x 3 columns]"
      ]
     },
     "execution_count": 46,
     "metadata": {},
     "output_type": "execute_result"
    }
   ],
   "source": [
    "feat_list = list(zip(X_resamp.columns, skb_fc.scores_, skb_fc.pvalues_))\n",
    "feat_list.sort(key=lambda x: x[2], reverse=False)\n",
    "pd.DataFrame(feat_list, columns=['feature','f-score','p-value'])"
   ]
  },
  {
   "cell_type": "markdown",
   "metadata": {},
   "source": [
    "The very high f-scores and p-values of 0 tell us that sessions, duration, and megabytes are the most predictive of churn, followed by certain bases where we would expect to see high churn rates. These are the features that are the most correlated with churn but they could be positive or negative - predictive or anti-predictive of churn."
   ]
  },
  {
   "cell_type": "markdown",
   "metadata": {},
   "source": [
    "What features did the logistic regression determine are predictive of churn?"
   ]
  },
  {
   "cell_type": "code",
   "execution_count": 50,
   "metadata": {
    "collapsed": false
   },
   "outputs": [],
   "source": [
    "cols = X_train_rs.columns\n",
    "coef = abs(lr_rs.coef_)\n",
    "zipped = list(zip(cols, coef[0]))\n",
    "zipped_df = pd.DataFrame(zipped, columns=['feature', 'importance'])"
   ]
  },
  {
   "cell_type": "code",
   "execution_count": 51,
   "metadata": {
    "collapsed": false
   },
   "outputs": [
    {
     "data": {
      "text/html": [
       "<div>\n",
       "<table border=\"1\" class=\"dataframe\">\n",
       "  <thead>\n",
       "    <tr style=\"text-align: right;\">\n",
       "      <th></th>\n",
       "      <th>feature</th>\n",
       "      <th>importance</th>\n",
       "    </tr>\n",
       "  </thead>\n",
       "  <tbody>\n",
       "    <tr>\n",
       "      <th>1</th>\n",
       "      <td>duration</td>\n",
       "      <td>0.633970</td>\n",
       "    </tr>\n",
       "    <tr>\n",
       "      <th>2</th>\n",
       "      <td>mega_bytes</td>\n",
       "      <td>0.390261</td>\n",
       "    </tr>\n",
       "    <tr>\n",
       "      <th>31</th>\n",
       "      <td>base_ARKNOX</td>\n",
       "      <td>0.364565</td>\n",
       "    </tr>\n",
       "    <tr>\n",
       "      <th>28</th>\n",
       "      <td>base_ARHOUS</td>\n",
       "      <td>0.242550</td>\n",
       "    </tr>\n",
       "    <tr>\n",
       "      <th>45</th>\n",
       "      <td>base_FLCHLS</td>\n",
       "      <td>0.184977</td>\n",
       "    </tr>\n",
       "    <tr>\n",
       "      <th>7</th>\n",
       "      <td>holiday_flag</td>\n",
       "      <td>0.178970</td>\n",
       "    </tr>\n",
       "    <tr>\n",
       "      <th>32</th>\n",
       "      <td>base_ARLEEE</td>\n",
       "      <td>0.168706</td>\n",
       "    </tr>\n",
       "    <tr>\n",
       "      <th>18</th>\n",
       "      <td>base_ARBLSS</td>\n",
       "      <td>0.158028</td>\n",
       "    </tr>\n",
       "    <tr>\n",
       "      <th>55</th>\n",
       "      <td>base_MCCLJN</td>\n",
       "      <td>0.148688</td>\n",
       "    </tr>\n",
       "    <tr>\n",
       "      <th>24</th>\n",
       "      <td>base_AREUST</td>\n",
       "      <td>0.138084</td>\n",
       "    </tr>\n",
       "    <tr>\n",
       "      <th>0</th>\n",
       "      <td>sessions</td>\n",
       "      <td>0.111808</td>\n",
       "    </tr>\n",
       "    <tr>\n",
       "      <th>17</th>\n",
       "      <td>base_ARBENN</td>\n",
       "      <td>0.098255</td>\n",
       "    </tr>\n",
       "    <tr>\n",
       "      <th>3</th>\n",
       "      <td>case_count</td>\n",
       "      <td>0.093009</td>\n",
       "    </tr>\n",
       "    <tr>\n",
       "      <th>4</th>\n",
       "      <td>comp_flag</td>\n",
       "      <td>0.092089</td>\n",
       "    </tr>\n",
       "    <tr>\n",
       "      <th>36</th>\n",
       "      <td>base_ARMUSC</td>\n",
       "      <td>0.086624</td>\n",
       "    </tr>\n",
       "    <tr>\n",
       "      <th>39</th>\n",
       "      <td>base_ARRILE</td>\n",
       "      <td>0.081546</td>\n",
       "    </tr>\n",
       "    <tr>\n",
       "      <th>20</th>\n",
       "      <td>base_ARCAMP</td>\n",
       "      <td>0.081348</td>\n",
       "    </tr>\n",
       "    <tr>\n",
       "      <th>14</th>\n",
       "      <td>base_AFSHEP</td>\n",
       "      <td>0.072026</td>\n",
       "    </tr>\n",
       "    <tr>\n",
       "      <th>33</th>\n",
       "      <td>base_ARLEOW</td>\n",
       "      <td>0.070330</td>\n",
       "    </tr>\n",
       "    <tr>\n",
       "      <th>57</th>\n",
       "      <td>base_MCCPEN</td>\n",
       "      <td>0.069255</td>\n",
       "    </tr>\n",
       "    <tr>\n",
       "      <th>52</th>\n",
       "      <td>base_MCBGPT</td>\n",
       "      <td>0.061968</td>\n",
       "    </tr>\n",
       "    <tr>\n",
       "      <th>25</th>\n",
       "      <td>base_ARGORD</td>\n",
       "      <td>0.060479</td>\n",
       "    </tr>\n",
       "    <tr>\n",
       "      <th>56</th>\n",
       "      <td>base_MCCMUJ</td>\n",
       "      <td>0.056520</td>\n",
       "    </tr>\n",
       "    <tr>\n",
       "      <th>19</th>\n",
       "      <td>base_ARBRAG</td>\n",
       "      <td>0.050742</td>\n",
       "    </tr>\n",
       "    <tr>\n",
       "      <th>42</th>\n",
       "      <td>base_ARYAKI</td>\n",
       "      <td>0.048317</td>\n",
       "    </tr>\n",
       "    <tr>\n",
       "      <th>49</th>\n",
       "      <td>base_MC29PM</td>\n",
       "      <td>0.048112</td>\n",
       "    </tr>\n",
       "    <tr>\n",
       "      <th>15</th>\n",
       "      <td>base_ARATTR</td>\n",
       "      <td>0.046177</td>\n",
       "    </tr>\n",
       "    <tr>\n",
       "      <th>46</th>\n",
       "      <td>base_FLGLCO</td>\n",
       "      <td>0.043094</td>\n",
       "    </tr>\n",
       "    <tr>\n",
       "      <th>21</th>\n",
       "      <td>base_ARCARS</td>\n",
       "      <td>0.038752</td>\n",
       "    </tr>\n",
       "    <tr>\n",
       "      <th>8</th>\n",
       "      <td>base_AFACDY</td>\n",
       "      <td>0.036001</td>\n",
       "    </tr>\n",
       "    <tr>\n",
       "      <th>...</th>\n",
       "      <td>...</td>\n",
       "      <td>...</td>\n",
       "    </tr>\n",
       "    <tr>\n",
       "      <th>10</th>\n",
       "      <td>base_AFKEES</td>\n",
       "      <td>0.026912</td>\n",
       "    </tr>\n",
       "    <tr>\n",
       "      <th>13</th>\n",
       "      <td>base_AFNELL</td>\n",
       "      <td>0.026332</td>\n",
       "    </tr>\n",
       "    <tr>\n",
       "      <th>54</th>\n",
       "      <td>base_MCCHPT</td>\n",
       "      <td>0.025575</td>\n",
       "    </tr>\n",
       "    <tr>\n",
       "      <th>60</th>\n",
       "      <td>base_MCPRSI</td>\n",
       "      <td>0.025304</td>\n",
       "    </tr>\n",
       "    <tr>\n",
       "      <th>9</th>\n",
       "      <td>base_AFCANN</td>\n",
       "      <td>0.024365</td>\n",
       "    </tr>\n",
       "    <tr>\n",
       "      <th>11</th>\n",
       "      <td>base_AFLACK</td>\n",
       "      <td>0.022878</td>\n",
       "    </tr>\n",
       "    <tr>\n",
       "      <th>48</th>\n",
       "      <td>base_MC29P</td>\n",
       "      <td>0.020863</td>\n",
       "    </tr>\n",
       "    <tr>\n",
       "      <th>12</th>\n",
       "      <td>base_AFMTHM</td>\n",
       "      <td>0.020609</td>\n",
       "    </tr>\n",
       "    <tr>\n",
       "      <th>16</th>\n",
       "      <td>base_ARBARK</td>\n",
       "      <td>0.020588</td>\n",
       "    </tr>\n",
       "    <tr>\n",
       "      <th>44</th>\n",
       "      <td>base_FLARTS</td>\n",
       "      <td>0.019190</td>\n",
       "    </tr>\n",
       "    <tr>\n",
       "      <th>65</th>\n",
       "      <td>base_TOKYO</td>\n",
       "      <td>0.017622</td>\n",
       "    </tr>\n",
       "    <tr>\n",
       "      <th>58</th>\n",
       "      <td>base_MCHAWI</td>\n",
       "      <td>0.014780</td>\n",
       "    </tr>\n",
       "    <tr>\n",
       "      <th>23</th>\n",
       "      <td>base_AREALN</td>\n",
       "      <td>0.014689</td>\n",
       "    </tr>\n",
       "    <tr>\n",
       "      <th>27</th>\n",
       "      <td>base_ARHOOD</td>\n",
       "      <td>0.013753</td>\n",
       "    </tr>\n",
       "    <tr>\n",
       "      <th>40</th>\n",
       "      <td>base_ARSILL</td>\n",
       "      <td>0.013274</td>\n",
       "    </tr>\n",
       "    <tr>\n",
       "      <th>47</th>\n",
       "      <td>base_MBKSDC</td>\n",
       "      <td>0.009021</td>\n",
       "    </tr>\n",
       "    <tr>\n",
       "      <th>62</th>\n",
       "      <td>base_MCSDRC</td>\n",
       "      <td>0.007116</td>\n",
       "    </tr>\n",
       "    <tr>\n",
       "      <th>5</th>\n",
       "      <td>train_flag</td>\n",
       "      <td>0.006112</td>\n",
       "    </tr>\n",
       "    <tr>\n",
       "      <th>43</th>\n",
       "      <td>base_FBQTCO</td>\n",
       "      <td>0.006029</td>\n",
       "    </tr>\n",
       "    <tr>\n",
       "      <th>35</th>\n",
       "      <td>base_ARLIGG</td>\n",
       "      <td>0.004996</td>\n",
       "    </tr>\n",
       "    <tr>\n",
       "      <th>41</th>\n",
       "      <td>base_ARSTEW</td>\n",
       "      <td>0.004799</td>\n",
       "    </tr>\n",
       "    <tr>\n",
       "      <th>63</th>\n",
       "      <td>base_MCSMTH</td>\n",
       "      <td>0.004064</td>\n",
       "    </tr>\n",
       "    <tr>\n",
       "      <th>34</th>\n",
       "      <td>base_ARLEWS</td>\n",
       "      <td>0.002961</td>\n",
       "    </tr>\n",
       "    <tr>\n",
       "      <th>53</th>\n",
       "      <td>base_MCBUFT</td>\n",
       "      <td>0.002703</td>\n",
       "    </tr>\n",
       "    <tr>\n",
       "      <th>64</th>\n",
       "      <td>base_MCYUMA</td>\n",
       "      <td>0.002130</td>\n",
       "    </tr>\n",
       "    <tr>\n",
       "      <th>59</th>\n",
       "      <td>base_MCMIRA</td>\n",
       "      <td>0.002075</td>\n",
       "    </tr>\n",
       "    <tr>\n",
       "      <th>38</th>\n",
       "      <td>base_ARPRES</td>\n",
       "      <td>0.001427</td>\n",
       "    </tr>\n",
       "    <tr>\n",
       "      <th>30</th>\n",
       "      <td>base_ARIRWN</td>\n",
       "      <td>0.000986</td>\n",
       "    </tr>\n",
       "    <tr>\n",
       "      <th>50</th>\n",
       "      <td>base_MCALBY</td>\n",
       "      <td>0.000163</td>\n",
       "    </tr>\n",
       "    <tr>\n",
       "      <th>51</th>\n",
       "      <td>base_MCBARS</td>\n",
       "      <td>0.000000</td>\n",
       "    </tr>\n",
       "  </tbody>\n",
       "</table>\n",
       "<p>66 rows × 2 columns</p>\n",
       "</div>"
      ],
      "text/plain": [
       "         feature  importance\n",
       "1       duration    0.633970\n",
       "2     mega_bytes    0.390261\n",
       "31   base_ARKNOX    0.364565\n",
       "28   base_ARHOUS    0.242550\n",
       "45   base_FLCHLS    0.184977\n",
       "7   holiday_flag    0.178970\n",
       "32   base_ARLEEE    0.168706\n",
       "18   base_ARBLSS    0.158028\n",
       "55   base_MCCLJN    0.148688\n",
       "24   base_AREUST    0.138084\n",
       "0       sessions    0.111808\n",
       "17   base_ARBENN    0.098255\n",
       "3     case_count    0.093009\n",
       "4      comp_flag    0.092089\n",
       "36   base_ARMUSC    0.086624\n",
       "39   base_ARRILE    0.081546\n",
       "20   base_ARCAMP    0.081348\n",
       "14   base_AFSHEP    0.072026\n",
       "33   base_ARLEOW    0.070330\n",
       "57   base_MCCPEN    0.069255\n",
       "52   base_MCBGPT    0.061968\n",
       "25   base_ARGORD    0.060479\n",
       "56   base_MCCMUJ    0.056520\n",
       "19   base_ARBRAG    0.050742\n",
       "42   base_ARYAKI    0.048317\n",
       "49   base_MC29PM    0.048112\n",
       "15   base_ARATTR    0.046177\n",
       "46   base_FLGLCO    0.043094\n",
       "21   base_ARCARS    0.038752\n",
       "8    base_AFACDY    0.036001\n",
       "..           ...         ...\n",
       "10   base_AFKEES    0.026912\n",
       "13   base_AFNELL    0.026332\n",
       "54   base_MCCHPT    0.025575\n",
       "60   base_MCPRSI    0.025304\n",
       "9    base_AFCANN    0.024365\n",
       "11   base_AFLACK    0.022878\n",
       "48    base_MC29P    0.020863\n",
       "12   base_AFMTHM    0.020609\n",
       "16   base_ARBARK    0.020588\n",
       "44   base_FLARTS    0.019190\n",
       "65    base_TOKYO    0.017622\n",
       "58   base_MCHAWI    0.014780\n",
       "23   base_AREALN    0.014689\n",
       "27   base_ARHOOD    0.013753\n",
       "40   base_ARSILL    0.013274\n",
       "47   base_MBKSDC    0.009021\n",
       "62   base_MCSDRC    0.007116\n",
       "5     train_flag    0.006112\n",
       "43   base_FBQTCO    0.006029\n",
       "35   base_ARLIGG    0.004996\n",
       "41   base_ARSTEW    0.004799\n",
       "63   base_MCSMTH    0.004064\n",
       "34   base_ARLEWS    0.002961\n",
       "53   base_MCBUFT    0.002703\n",
       "64   base_MCYUMA    0.002130\n",
       "59   base_MCMIRA    0.002075\n",
       "38   base_ARPRES    0.001427\n",
       "30   base_ARIRWN    0.000986\n",
       "50   base_MCALBY    0.000163\n",
       "51   base_MCBARS    0.000000\n",
       "\n",
       "[66 rows x 2 columns]"
      ]
     },
     "execution_count": 51,
     "metadata": {},
     "output_type": "execute_result"
    }
   ],
   "source": [
    "zipped_df.sort_values(by='importance', ascending=False)"
   ]
  },
  {
   "cell_type": "markdown",
   "metadata": {},
   "source": [
    "Again we see the \"level of use\" features as by far the most predictive of churn, but 'sessions' dropped down. We also see certain bases again, along with the holiday flag for if the account was created in Nov. or Dec."
   ]
  },
  {
   "cell_type": "markdown",
   "metadata": {
    "collapsed": true
   },
   "source": [
    "What about the RandomForest model?"
   ]
  },
  {
   "cell_type": "code",
   "execution_count": 52,
   "metadata": {
    "collapsed": false
   },
   "outputs": [],
   "source": [
    "cols = X_train_rs.columns\n",
    "imp = rf.feature_importances_\n",
    "\n",
    "zipped = list(zip(cols, imp))\n",
    "zipped_df = pd.DataFrame(zipped, columns=['feature', 'importance'])"
   ]
  },
  {
   "cell_type": "code",
   "execution_count": 53,
   "metadata": {
    "collapsed": false
   },
   "outputs": [
    {
     "data": {
      "text/html": [
       "<div>\n",
       "<table border=\"1\" class=\"dataframe\">\n",
       "  <thead>\n",
       "    <tr style=\"text-align: right;\">\n",
       "      <th></th>\n",
       "      <th>feature</th>\n",
       "      <th>importance</th>\n",
       "    </tr>\n",
       "  </thead>\n",
       "  <tbody>\n",
       "    <tr>\n",
       "      <th>0</th>\n",
       "      <td>sessions</td>\n",
       "      <td>0.318760</td>\n",
       "    </tr>\n",
       "    <tr>\n",
       "      <th>1</th>\n",
       "      <td>duration</td>\n",
       "      <td>0.254848</td>\n",
       "    </tr>\n",
       "    <tr>\n",
       "      <th>2</th>\n",
       "      <td>mega_bytes</td>\n",
       "      <td>0.254738</td>\n",
       "    </tr>\n",
       "    <tr>\n",
       "      <th>3</th>\n",
       "      <td>case_count</td>\n",
       "      <td>0.019067</td>\n",
       "    </tr>\n",
       "    <tr>\n",
       "      <th>6</th>\n",
       "      <td>pcs_flag</td>\n",
       "      <td>0.015061</td>\n",
       "    </tr>\n",
       "    <tr>\n",
       "      <th>7</th>\n",
       "      <td>holiday_flag</td>\n",
       "      <td>0.012735</td>\n",
       "    </tr>\n",
       "    <tr>\n",
       "      <th>31</th>\n",
       "      <td>base_ARKNOX</td>\n",
       "      <td>0.012513</td>\n",
       "    </tr>\n",
       "    <tr>\n",
       "      <th>28</th>\n",
       "      <td>base_ARHOUS</td>\n",
       "      <td>0.009671</td>\n",
       "    </tr>\n",
       "    <tr>\n",
       "      <th>32</th>\n",
       "      <td>base_ARLEEE</td>\n",
       "      <td>0.007735</td>\n",
       "    </tr>\n",
       "    <tr>\n",
       "      <th>18</th>\n",
       "      <td>base_ARBLSS</td>\n",
       "      <td>0.005545</td>\n",
       "    </tr>\n",
       "    <tr>\n",
       "      <th>5</th>\n",
       "      <td>train_flag</td>\n",
       "      <td>0.005442</td>\n",
       "    </tr>\n",
       "    <tr>\n",
       "      <th>14</th>\n",
       "      <td>base_AFSHEP</td>\n",
       "      <td>0.005257</td>\n",
       "    </tr>\n",
       "    <tr>\n",
       "      <th>11</th>\n",
       "      <td>base_AFLACK</td>\n",
       "      <td>0.004798</td>\n",
       "    </tr>\n",
       "    <tr>\n",
       "      <th>10</th>\n",
       "      <td>base_AFKEES</td>\n",
       "      <td>0.004162</td>\n",
       "    </tr>\n",
       "    <tr>\n",
       "      <th>24</th>\n",
       "      <td>base_AREUST</td>\n",
       "      <td>0.004136</td>\n",
       "    </tr>\n",
       "    <tr>\n",
       "      <th>17</th>\n",
       "      <td>base_ARBENN</td>\n",
       "      <td>0.004066</td>\n",
       "    </tr>\n",
       "    <tr>\n",
       "      <th>46</th>\n",
       "      <td>base_FLGLCO</td>\n",
       "      <td>0.003723</td>\n",
       "    </tr>\n",
       "    <tr>\n",
       "      <th>25</th>\n",
       "      <td>base_ARGORD</td>\n",
       "      <td>0.003311</td>\n",
       "    </tr>\n",
       "    <tr>\n",
       "      <th>29</th>\n",
       "      <td>base_ARHUAC</td>\n",
       "      <td>0.003101</td>\n",
       "    </tr>\n",
       "    <tr>\n",
       "      <th>45</th>\n",
       "      <td>base_FLCHLS</td>\n",
       "      <td>0.003050</td>\n",
       "    </tr>\n",
       "    <tr>\n",
       "      <th>33</th>\n",
       "      <td>base_ARLEOW</td>\n",
       "      <td>0.002771</td>\n",
       "    </tr>\n",
       "    <tr>\n",
       "      <th>4</th>\n",
       "      <td>comp_flag</td>\n",
       "      <td>0.002729</td>\n",
       "    </tr>\n",
       "    <tr>\n",
       "      <th>8</th>\n",
       "      <td>base_AFACDY</td>\n",
       "      <td>0.002671</td>\n",
       "    </tr>\n",
       "    <tr>\n",
       "      <th>55</th>\n",
       "      <td>base_MCCLJN</td>\n",
       "      <td>0.002579</td>\n",
       "    </tr>\n",
       "    <tr>\n",
       "      <th>27</th>\n",
       "      <td>base_ARHOOD</td>\n",
       "      <td>0.002271</td>\n",
       "    </tr>\n",
       "    <tr>\n",
       "      <th>39</th>\n",
       "      <td>base_ARRILE</td>\n",
       "      <td>0.002144</td>\n",
       "    </tr>\n",
       "    <tr>\n",
       "      <th>65</th>\n",
       "      <td>base_TOKYO</td>\n",
       "      <td>0.002100</td>\n",
       "    </tr>\n",
       "    <tr>\n",
       "      <th>49</th>\n",
       "      <td>base_MC29PM</td>\n",
       "      <td>0.002074</td>\n",
       "    </tr>\n",
       "    <tr>\n",
       "      <th>43</th>\n",
       "      <td>base_FBQTCO</td>\n",
       "      <td>0.001944</td>\n",
       "    </tr>\n",
       "    <tr>\n",
       "      <th>21</th>\n",
       "      <td>base_ARCARS</td>\n",
       "      <td>0.001885</td>\n",
       "    </tr>\n",
       "    <tr>\n",
       "      <th>...</th>\n",
       "      <td>...</td>\n",
       "      <td>...</td>\n",
       "    </tr>\n",
       "    <tr>\n",
       "      <th>38</th>\n",
       "      <td>base_ARPRES</td>\n",
       "      <td>0.001285</td>\n",
       "    </tr>\n",
       "    <tr>\n",
       "      <th>40</th>\n",
       "      <td>base_ARSILL</td>\n",
       "      <td>0.001257</td>\n",
       "    </tr>\n",
       "    <tr>\n",
       "      <th>59</th>\n",
       "      <td>base_MCMIRA</td>\n",
       "      <td>0.001250</td>\n",
       "    </tr>\n",
       "    <tr>\n",
       "      <th>37</th>\n",
       "      <td>base_ARPOLK</td>\n",
       "      <td>0.001231</td>\n",
       "    </tr>\n",
       "    <tr>\n",
       "      <th>34</th>\n",
       "      <td>base_ARLEWS</td>\n",
       "      <td>0.001171</td>\n",
       "    </tr>\n",
       "    <tr>\n",
       "      <th>54</th>\n",
       "      <td>base_MCCHPT</td>\n",
       "      <td>0.001161</td>\n",
       "    </tr>\n",
       "    <tr>\n",
       "      <th>64</th>\n",
       "      <td>base_MCYUMA</td>\n",
       "      <td>0.000900</td>\n",
       "    </tr>\n",
       "    <tr>\n",
       "      <th>53</th>\n",
       "      <td>base_MCBUFT</td>\n",
       "      <td>0.000664</td>\n",
       "    </tr>\n",
       "    <tr>\n",
       "      <th>13</th>\n",
       "      <td>base_AFNELL</td>\n",
       "      <td>0.000641</td>\n",
       "    </tr>\n",
       "    <tr>\n",
       "      <th>48</th>\n",
       "      <td>base_MC29P</td>\n",
       "      <td>0.000620</td>\n",
       "    </tr>\n",
       "    <tr>\n",
       "      <th>30</th>\n",
       "      <td>base_ARIRWN</td>\n",
       "      <td>0.000611</td>\n",
       "    </tr>\n",
       "    <tr>\n",
       "      <th>15</th>\n",
       "      <td>base_ARATTR</td>\n",
       "      <td>0.000575</td>\n",
       "    </tr>\n",
       "    <tr>\n",
       "      <th>57</th>\n",
       "      <td>base_MCCPEN</td>\n",
       "      <td>0.000565</td>\n",
       "    </tr>\n",
       "    <tr>\n",
       "      <th>42</th>\n",
       "      <td>base_ARYAKI</td>\n",
       "      <td>0.000478</td>\n",
       "    </tr>\n",
       "    <tr>\n",
       "      <th>47</th>\n",
       "      <td>base_MBKSDC</td>\n",
       "      <td>0.000436</td>\n",
       "    </tr>\n",
       "    <tr>\n",
       "      <th>9</th>\n",
       "      <td>base_AFCANN</td>\n",
       "      <td>0.000406</td>\n",
       "    </tr>\n",
       "    <tr>\n",
       "      <th>16</th>\n",
       "      <td>base_ARBARK</td>\n",
       "      <td>0.000402</td>\n",
       "    </tr>\n",
       "    <tr>\n",
       "      <th>26</th>\n",
       "      <td>base_ARHNTR</td>\n",
       "      <td>0.000345</td>\n",
       "    </tr>\n",
       "    <tr>\n",
       "      <th>22</th>\n",
       "      <td>base_ARDEVN</td>\n",
       "      <td>0.000319</td>\n",
       "    </tr>\n",
       "    <tr>\n",
       "      <th>60</th>\n",
       "      <td>base_MCPRSI</td>\n",
       "      <td>0.000295</td>\n",
       "    </tr>\n",
       "    <tr>\n",
       "      <th>35</th>\n",
       "      <td>base_ARLIGG</td>\n",
       "      <td>0.000285</td>\n",
       "    </tr>\n",
       "    <tr>\n",
       "      <th>12</th>\n",
       "      <td>base_AFMTHM</td>\n",
       "      <td>0.000219</td>\n",
       "    </tr>\n",
       "    <tr>\n",
       "      <th>52</th>\n",
       "      <td>base_MCBGPT</td>\n",
       "      <td>0.000200</td>\n",
       "    </tr>\n",
       "    <tr>\n",
       "      <th>23</th>\n",
       "      <td>base_AREALN</td>\n",
       "      <td>0.000097</td>\n",
       "    </tr>\n",
       "    <tr>\n",
       "      <th>63</th>\n",
       "      <td>base_MCSMTH</td>\n",
       "      <td>0.000083</td>\n",
       "    </tr>\n",
       "    <tr>\n",
       "      <th>50</th>\n",
       "      <td>base_MCALBY</td>\n",
       "      <td>0.000073</td>\n",
       "    </tr>\n",
       "    <tr>\n",
       "      <th>62</th>\n",
       "      <td>base_MCSDRC</td>\n",
       "      <td>0.000056</td>\n",
       "    </tr>\n",
       "    <tr>\n",
       "      <th>56</th>\n",
       "      <td>base_MCCMUJ</td>\n",
       "      <td>0.000039</td>\n",
       "    </tr>\n",
       "    <tr>\n",
       "      <th>36</th>\n",
       "      <td>base_ARMUSC</td>\n",
       "      <td>0.000027</td>\n",
       "    </tr>\n",
       "    <tr>\n",
       "      <th>51</th>\n",
       "      <td>base_MCBARS</td>\n",
       "      <td>0.000022</td>\n",
       "    </tr>\n",
       "  </tbody>\n",
       "</table>\n",
       "<p>66 rows × 2 columns</p>\n",
       "</div>"
      ],
      "text/plain": [
       "         feature  importance\n",
       "0       sessions    0.318760\n",
       "1       duration    0.254848\n",
       "2     mega_bytes    0.254738\n",
       "3     case_count    0.019067\n",
       "6       pcs_flag    0.015061\n",
       "7   holiday_flag    0.012735\n",
       "31   base_ARKNOX    0.012513\n",
       "28   base_ARHOUS    0.009671\n",
       "32   base_ARLEEE    0.007735\n",
       "18   base_ARBLSS    0.005545\n",
       "5     train_flag    0.005442\n",
       "14   base_AFSHEP    0.005257\n",
       "11   base_AFLACK    0.004798\n",
       "10   base_AFKEES    0.004162\n",
       "24   base_AREUST    0.004136\n",
       "17   base_ARBENN    0.004066\n",
       "46   base_FLGLCO    0.003723\n",
       "25   base_ARGORD    0.003311\n",
       "29   base_ARHUAC    0.003101\n",
       "45   base_FLCHLS    0.003050\n",
       "33   base_ARLEOW    0.002771\n",
       "4      comp_flag    0.002729\n",
       "8    base_AFACDY    0.002671\n",
       "55   base_MCCLJN    0.002579\n",
       "27   base_ARHOOD    0.002271\n",
       "39   base_ARRILE    0.002144\n",
       "65    base_TOKYO    0.002100\n",
       "49   base_MC29PM    0.002074\n",
       "43   base_FBQTCO    0.001944\n",
       "21   base_ARCARS    0.001885\n",
       "..           ...         ...\n",
       "38   base_ARPRES    0.001285\n",
       "40   base_ARSILL    0.001257\n",
       "59   base_MCMIRA    0.001250\n",
       "37   base_ARPOLK    0.001231\n",
       "34   base_ARLEWS    0.001171\n",
       "54   base_MCCHPT    0.001161\n",
       "64   base_MCYUMA    0.000900\n",
       "53   base_MCBUFT    0.000664\n",
       "13   base_AFNELL    0.000641\n",
       "48    base_MC29P    0.000620\n",
       "30   base_ARIRWN    0.000611\n",
       "15   base_ARATTR    0.000575\n",
       "57   base_MCCPEN    0.000565\n",
       "42   base_ARYAKI    0.000478\n",
       "47   base_MBKSDC    0.000436\n",
       "9    base_AFCANN    0.000406\n",
       "16   base_ARBARK    0.000402\n",
       "26   base_ARHNTR    0.000345\n",
       "22   base_ARDEVN    0.000319\n",
       "60   base_MCPRSI    0.000295\n",
       "35   base_ARLIGG    0.000285\n",
       "12   base_AFMTHM    0.000219\n",
       "52   base_MCBGPT    0.000200\n",
       "23   base_AREALN    0.000097\n",
       "63   base_MCSMTH    0.000083\n",
       "50   base_MCALBY    0.000073\n",
       "62   base_MCSDRC    0.000056\n",
       "56   base_MCCMUJ    0.000039\n",
       "36   base_ARMUSC    0.000027\n",
       "51   base_MCBARS    0.000022\n",
       "\n",
       "[66 rows x 2 columns]"
      ]
     },
     "execution_count": 53,
     "metadata": {},
     "output_type": "execute_result"
    }
   ],
   "source": [
    "zipped_df.sort_values(by='importance', ascending=False)"
   ]
  },
  {
   "cell_type": "markdown",
   "metadata": {},
   "source": [
    "Same features again. We can safely say that the \"level of use\" features, a few of the bases, and potentially the holiday flag and pcs_flag are highly predictive of whether a customer account churns."
   ]
  },
  {
   "cell_type": "markdown",
   "metadata": {},
   "source": [
    "## Next steps:"
   ]
  },
  {
   "cell_type": "markdown",
   "metadata": {},
   "source": [
    "Our best score for the predictive classification model was 74% (with a baseline of 50%). This isn't bad but we could try doing some more sophisticated modeling techniques like model stacking to try and improve our accuracy score."
   ]
  },
  {
   "cell_type": "markdown",
   "metadata": {},
   "source": [
    "I would also go back and look at doing some more feature engineering and clustering by base or type of customer to find more patterns in the data, and build individual models for the different types of customer."
   ]
  },
  {
   "cell_type": "code",
   "execution_count": null,
   "metadata": {
    "collapsed": true
   },
   "outputs": [],
   "source": []
  }
 ],
 "metadata": {
  "kernelspec": {
   "display_name": "Python 3",
   "language": "python",
   "name": "python3"
  },
  "language_info": {
   "codemirror_mode": {
    "name": "ipython",
    "version": 3
   },
   "file_extension": ".py",
   "mimetype": "text/x-python",
   "name": "python",
   "nbconvert_exporter": "python",
   "pygments_lexer": "ipython3",
   "version": "3.6.0"
  }
 },
 "nbformat": 4,
 "nbformat_minor": 2
}
